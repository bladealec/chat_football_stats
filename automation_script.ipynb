{
 "cells": [
  {
   "cell_type": "code",
   "execution_count": null,
   "id": "745db9b2",
   "metadata": {},
   "outputs": [],
   "source": [
    "from nbconvert.preprocessors import ExecutePreprocessor\n",
    "from nbconvert import HTMLExporter\n",
    "from nbformat import read, write"
   ]
  },
  {
   "cell_type": "code",
   "execution_count": null,
   "id": "e8b1b486",
   "metadata": {},
   "outputs": [],
   "source": [
    "# This reads, runs, and saves python notebooks\n",
    "def run_notebook(notebook_path):\n",
    "    with open(notebook_path, 'r', encoding='utf-8') as f:\n",
    "        notebook = read(f, 4)\n",
    "\n",
    "    execute = ExecutePreprocessor(timeout=600, kernel_name='python3')\n",
    "    execute.preprocess(nb, {'metadata': {'path': './'}})\n",
    "\n",
    "    with open(notebook_path, 'w', encoding='utf-8') as f:\n",
    "        write(notebook, f)"
   ]
  },
  {
   "cell_type": "code",
   "execution_count": null,
   "id": "a755261d",
   "metadata": {},
   "outputs": [],
   "source": [
    "# Specifying the notebooks to run\n",
    "if __name__ == '__main__':\n",
    "    notebook_paths = ['team_standings_scraper.ipynb',\n",
    "                      'player_stats_scraper.ipynb',\n",
    "                      'league_stats_scraper.ipynb']\n",
    "    for path in notebook_paths:\n",
    "        run_notebook(path)"
   ]
  }
 ],
 "metadata": {
  "kernelspec": {
   "display_name": "Python 3 (ipykernel)",
   "language": "python",
   "name": "python3"
  },
  "language_info": {
   "codemirror_mode": {
    "name": "ipython",
    "version": 3
   },
   "file_extension": ".py",
   "mimetype": "text/x-python",
   "name": "python",
   "nbconvert_exporter": "python",
   "pygments_lexer": "ipython3",
   "version": "3.10.9"
  }
 },
 "nbformat": 4,
 "nbformat_minor": 5
}
