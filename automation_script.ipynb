{
 "cells": [
  {
   "cell_type": "code",
   "execution_count": null,
   "id": "5c9be4f2",
   "metadata": {},
   "outputs": [],
   "source": [
    "from nbconvert.preprocessors import ExecutePreprocessor\n",
    "from nbconvert import HTMLExporter\n",
    "from nbformat import read, write"
   ]
  },
  {
   "cell_type": "code",
   "execution_count": null,
   "id": "9d87d6f0",
   "metadata": {},
   "outputs": [],
   "source": [
    "# This reads, runs, and saves python notebooks\n",
    "def run_notebook(notebook_path):\n",
    "    with open(notebook_path, 'r', encoding='utf-8') as f:\n",
    "        notebook = read(f, 4)\n",
    "\n",
    "    execute = ExecutePreprocessor(timeout=600, kernel_name='python3')\n",
    "    execute.preprocess(notebook, {'metadata': {'path': './'}})\n",
    "\n",
    "    with open(notebook_path, 'w', encoding='utf-8') as f:\n",
    "        write(notebook, f)"
   ]
  },
  {
   "cell_type": "code",
   "execution_count": null,
   "id": "06bee441",
   "metadata": {},
   "outputs": [],
   "source": [
    "# Specifying the notebooks to run\n",
    "if __name__ == '__main__':\n",
    "    notebook_paths = ['team_standings_scraper.ipynb',\n",
    "                      'player_stats_scraper.ipynb',\n",
    "                      'league_stats_scraper.ipynb']\n",
    "    for path in notebook_paths:\n",
    "        run_notebook(path)"
   ]
  },
  {
   "cell_type": "code",
   "execution_count": null,
   "id": "a50bb70e",
   "metadata": {},
   "outputs": [],
   "source": []
  }
 ],
 "metadata": {
  "kernelspec": {
   "display_name": "Python 3 (ipykernel)",
   "language": "python",
   "name": "python3"
  },
  "language_info": {
   "codemirror_mode": {
    "name": "ipython",
    "version": 3
   },
   "file_extension": ".py",
   "mimetype": "text/x-python",
   "name": "python",
   "nbconvert_exporter": "python",
   "pygments_lexer": "ipython3",
   "version": "3.10.9"
  }
 },
 "nbformat": 4,
 "nbformat_minor": 5
}
