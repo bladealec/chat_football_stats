{
 "cells": [
  {
   "cell_type": "markdown",
   "id": "5ec44b9b",
   "metadata": {},
   "source": [
    "### This notebook gathers data of NISA cup games"
   ]
  },
  {
   "cell_type": "code",
   "execution_count": null,
   "id": "6f3a51f1",
   "metadata": {},
   "outputs": [],
   "source": [
    "import requests\n",
    "from bs4 import BeautifulSoup as BS\n",
    "import pandas as pd\n",
    "\n",
    "from selenium import webdriver\n",
    "from selenium.webdriver.chrome.service import Service\n",
    "from selenium.webdriver.common.by import By\n",
    "from selenium.webdriver.support.ui import WebDriverWait\n",
    "from selenium.webdriver.support import expected_conditions as EC"
   ]
  },
  {
   "cell_type": "code",
   "execution_count": null,
   "id": "c3650f9a",
   "metadata": {},
   "outputs": [],
   "source": [
    "def extract_standings_table(soup):\n",
    "    \n",
    "    table = soup.find('table')\n",
    "    \n",
    "     # Extract the table data into a list of dictionaries\n",
    "    data = []\n",
    "    rows = table.find_all('tr')\n",
    "    headers = [header.get_text(strip=True) for header in rows[0].find_all('th')]\n",
    "    \n",
    "    for row in rows[1:]:\n",
    "        values = [cell.get_text(strip=True) for cell in row.find_all(['td', 'th'])]\n",
    "        data.append(dict(zip(headers, values)))\n",
    "\n",
    "    # Creating DataFrame\n",
    "    team_standings_df = pd.DataFrame(data)\n",
    "\n",
    "    # Cleaning up DataFrame\n",
    "    team_standings_df = team_standings_df.replace(r'\\n', '', regex=True)  # Removes newline characters\n",
    "    team_standings_df['TEAM'] = team_standings_df['TEAM'].str.strip()  # Strips leading/trailing spaces\n",
    "\n",
    "    return(team_standings_df)"
   ]
  },
  {
   "cell_type": "code",
   "execution_count": null,
   "id": "b35aa19f",
   "metadata": {},
   "outputs": [],
   "source": [
    "def create_df():\n",
    "    \n",
    "    soup = BS(driver.page_source,'html.parser')\n",
    "    \n",
    "    team_standings_df = extract_standings_table(soup)\n",
    "    print(team_standings_df)"
   ]
  },
  {
   "cell_type": "markdown",
   "id": "052bfdbe",
   "metadata": {},
   "source": [
    "### Run the below cell to navigate to the NISA website. This cell will need to be ran before running each individual cup selector cells."
   ]
  },
  {
   "cell_type": "code",
   "execution_count": null,
   "id": "b07a4bf6",
   "metadata": {},
   "outputs": [],
   "source": [
    "chrome_driver_path = 'C:\\Program Files (x86)\\Google\\Chrome\\Application\\chrome'\n",
    "\n",
    "# Starting Chrome with Selenium\n",
    "service = Service(chrome_driver_path)\n",
    "driver = webdriver.Chrome(service=service)\n",
    "\n",
    "# Navigating to the page\n",
    "URL = 'https://nisaofficial.com/standings'\n",
    "driver.get(URL)\n",
    "\n",
    "# Interacting with the page\n",
    "button1 = WebDriverWait(driver, 15).until(EC.element_to_be_clickable((By.CSS_SELECTOR, '#selectSeason')))\n",
    "button1.click()\n",
    "\n",
    "button2 = WebDriverWait(driver, 15).until(EC.element_to_be_clickable((By.CSS_SELECTOR, '#select2-year-container')))\n",
    "button2.click()"
   ]
  },
  {
   "cell_type": "markdown",
   "id": "19eb2e5c",
   "metadata": {},
   "source": [
    "### Cup selector cells"
   ]
  },
  {
   "cell_type": "markdown",
   "id": "dc458ef4",
   "metadata": {},
   "source": [
    "#### 2023 Independent Cup (no content currently available)"
   ]
  },
  {
   "cell_type": "code",
   "execution_count": null,
   "id": "ca97302b",
   "metadata": {},
   "outputs": [],
   "source": [
    "# '#select2-year-result-{dynamic_part}-46'\n",
    "cup_select2023 = WebDriverWait(driver, 15).until(EC.element_to_be_clickable((By.CSS_SELECTOR, '#select2-year-result-eizw-46')))\n",
    "cup_select2023.click()"
   ]
  },
  {
   "cell_type": "code",
   "execution_count": null,
   "id": "27785013",
   "metadata": {},
   "outputs": [],
   "source": [
    "create_df()"
   ]
  },
  {
   "cell_type": "code",
   "execution_count": null,
   "id": "7178c0db",
   "metadata": {},
   "outputs": [],
   "source": [
    "driver.quit()"
   ]
  },
  {
   "cell_type": "markdown",
   "id": "975f2f37",
   "metadata": {},
   "source": [
    "#### 2022 Independent Cup (no content currently available)"
   ]
  },
  {
   "cell_type": "code",
   "execution_count": null,
   "id": "5bfe6a8f",
   "metadata": {},
   "outputs": [],
   "source": [
    "# '#select2-year-result-{dynamic_part}-71'\n",
    "cup_select2023 = WebDriverWait(driver, 15).until(EC.element_to_be_clickable((By.CSS_SELECTOR, '#select2-year-result-xvwj-71')))\n",
    "cup_select2023.click()"
   ]
  },
  {
   "cell_type": "code",
   "execution_count": null,
   "id": "3d22902e",
   "metadata": {},
   "outputs": [],
   "source": [
    "create_df()"
   ]
  },
  {
   "cell_type": "code",
   "execution_count": null,
   "id": "dfda0372",
   "metadata": {},
   "outputs": [],
   "source": [
    "driver.quit()"
   ]
  }
 ],
 "metadata": {
  "kernelspec": {
   "display_name": "Python 3 (ipykernel)",
   "language": "python",
   "name": "python3"
  },
  "language_info": {
   "codemirror_mode": {
    "name": "ipython",
    "version": 3
   },
   "file_extension": ".py",
   "mimetype": "text/x-python",
   "name": "python",
   "nbconvert_exporter": "python",
   "pygments_lexer": "ipython3",
   "version": "3.10.9"
  }
 },
 "nbformat": 4,
 "nbformat_minor": 5
}
