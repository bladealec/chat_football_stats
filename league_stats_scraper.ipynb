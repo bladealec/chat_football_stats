{
 "cells": [
  {
   "cell_type": "markdown",
   "id": "7682435f",
   "metadata": {},
   "source": [
    "# This notebook gathers data of NISA league stats tables"
   ]
  },
  {
   "cell_type": "code",
   "execution_count": 1,
   "id": "d06b354f",
   "metadata": {},
   "outputs": [],
   "source": [
    "import requests\n",
    "from bs4 import BeautifulSoup as BS\n",
    "import pandas as pd\n",
    "import os\n",
    "\n",
    "from selenium import webdriver\n",
    "from selenium.webdriver.chrome.service import Service\n",
    "from selenium.webdriver.common.by import By\n",
    "from selenium.webdriver.support.ui import WebDriverWait\n",
    "from selenium.webdriver.support import expected_conditions as EC"
   ]
  },
  {
   "cell_type": "code",
   "execution_count": 2,
   "id": "27314788",
   "metadata": {},
   "outputs": [
    {
     "data": {
      "text/html": [
       "\n",
       "<style>\n",
       ".container { width: 100% !important; }\n",
       ".code_cell { flex-grow: 1; width: 100% !important; }\n",
       ".code_cell .input_area { width: 100% !important; }\n",
       "</style>\n"
      ],
      "text/plain": [
       "<IPython.core.display.HTML object>"
      ]
     },
     "metadata": {},
     "output_type": "display_data"
    }
   ],
   "source": [
    "# Optional cell, stretches cell width for better readability\n",
    "from IPython.core.display import HTML\n",
    "\n",
    "custom_css = \"\"\"\n",
    "<style>\n",
    ".container { width: 100% !important; }\n",
    ".code_cell { flex-grow: 1; width: 100% !important; }\n",
    ".code_cell .input_area { width: 100% !important; }\n",
    "</style>\n",
    "\"\"\"\n",
    "\n",
    "display(HTML(custom_css))"
   ]
  },
  {
   "cell_type": "code",
   "execution_count": 3,
   "id": "1953fcd9",
   "metadata": {},
   "outputs": [],
   "source": [
    "def extract_stats_table(soup):\n",
    "    \n",
    "    table = soup.find('table')\n",
    "    \n",
    "     # Extract the table data into a list of dictionaries\n",
    "    data = []\n",
    "    rows = table.find_all('tr')\n",
    "    headers = [header.get_text(strip=True) for header in rows[0].find_all('th')]\n",
    "    \n",
    "    for row in rows[1:]:\n",
    "        values = [cell.get_text(strip=True) for cell in row.find_all(['td', 'th'])]\n",
    "        data.append(dict(zip(headers, values)))\n",
    "\n",
    "    # Creating DataFrame\n",
    "    league_stats_df = pd.DataFrame(data)\n",
    "\n",
    "    return(league_stats_df)"
   ]
  },
  {
   "cell_type": "code",
   "execution_count": 4,
   "id": "6c31633b",
   "metadata": {},
   "outputs": [],
   "source": [
    "def create_df(csv_filename):\n",
    "    \n",
    "    soup = BS(driver.page_source,'html.parser')\n",
    "    \n",
    "    league_stats_df = extract_stats_table(soup)\n",
    "    \n",
    "    # Creates a \"data\" folder if it doesn't exist\n",
    "    data_folder = 'data'\n",
    "    if not os.path.exists(data_folder):\n",
    "        os.makedirs(data_folder)\n",
    "    \n",
    "    #Saves the dataframe locally to a csv\n",
    "    csv_filepath = os.path.join(data_folder, csv_filename)\n",
    "    league_stats_df.to_csv(csv_filepath, index=False)\n",
    "    \n",
    "    print(league_stats_df)"
   ]
  },
  {
   "cell_type": "code",
   "execution_count": 5,
   "id": "e119418f",
   "metadata": {},
   "outputs": [],
   "source": [
    "def download_table(desired_table, desired_year, file_name):\n",
    "    # Find and click the button to open the drop-down for selecting the year\n",
    "    year_button = driver.find_element(By.CSS_SELECTOR, 'span#select2-year-container')\n",
    "    year_button.click()\n",
    "\n",
    "    # Find and click the specific year option in the drop-down\n",
    "    year_option = WebDriverWait(driver, 15).until(EC.element_to_be_clickable((By.XPATH, f'//li[text()=\"{desired_year}\"]')))\n",
    "    year_option.click()\n",
    "\n",
    "    # Find and click the button to open the drop-down for selecting the table (third button)\n",
    "    table_button = driver.find_element(By.CSS_SELECTOR, 'span#select2-type-container')\n",
    "    table_button.click()\n",
    "\n",
    "    # Find and click the specific table option in the drop-down\n",
    "    table_option = WebDriverWait(driver, 15).until(EC.element_to_be_clickable((By.XPATH, f'//li[text()=\"{desired_table}\"]')))\n",
    "    table_option.click()\n",
    "\n",
    "    # Call create_df function to download the table data\n",
    "    create_df(file_name)\n",
    "\n",
    "    driver.quit()"
   ]
  },
  {
   "cell_type": "code",
   "execution_count": 6,
   "id": "5c1006bb",
   "metadata": {},
   "outputs": [],
   "source": [
    "def print_options_for_year(desired_year):\n",
    "    \n",
    "    chrome_driver_path = 'C:\\Program Files (x86)\\Google\\Chrome\\Application\\chrome'\n",
    "\n",
    "    # Starting Chrome with Selenium\n",
    "    service = Service(chrome_driver_path)\n",
    "    driver = webdriver.Chrome(service=service)\n",
    "\n",
    "    # Navigating to the page\n",
    "    URL = 'https://nisaofficial.com/league-stats'\n",
    "    driver.get(URL)\n",
    "\n",
    "    # Find and click the button to open the drop-down for selecting the year\n",
    "    year_button = driver.find_element(By.CSS_SELECTOR, 'span#select2-year-container')\n",
    "    year_button.click()\n",
    "\n",
    "    # Find and click the specific year option in the drop-down\n",
    "    year_option = WebDriverWait(driver, 15).until(EC.element_to_be_clickable((By.XPATH, f'//li[text()=\"{desired_year}\"]')))\n",
    "    year_option.click()\n",
    "\n",
    "    # Wait for the third button to be clickable\n",
    "    WebDriverWait(driver, 15).until(EC.element_to_be_clickable((By.CSS_SELECTOR, 'span#select2-type-container')))\n",
    "\n",
    "    # Hover over the third button to trigger its drop-down\n",
    "    third_button = driver.find_element(By.CSS_SELECTOR, 'span#select2-type-container')\n",
    "    driver.execute_script(\"arguments[0].click();\", third_button)\n",
    "\n",
    "    # Wait for the drop-down to open\n",
    "    table_dropdown = WebDriverWait(driver, 15).until(EC.presence_of_element_located((By.CSS_SELECTOR, 'select#type')))\n",
    "\n",
    "    # Find the drop-down options and print their text\n",
    "    options = table_dropdown.find_elements(By.TAG_NAME, 'option')\n",
    "    for option in options:\n",
    "        print(option.text)\n",
    "    \n",
    "    driver.quit()"
   ]
  },
  {
   "cell_type": "markdown",
   "id": "db48ffe1",
   "metadata": {},
   "source": [
    "## Run the below cell to see all the available years."
   ]
  },
  {
   "cell_type": "code",
   "execution_count": 7,
   "id": "617d8dc0",
   "metadata": {},
   "outputs": [
    {
     "name": "stdout",
     "output_type": "stream",
     "text": [
      "2019-2020\n",
      "2020-2021\n",
      "2021\n",
      "2022\n",
      "2023\n"
     ]
    }
   ],
   "source": [
    "# Start Chrome with Selenium\n",
    "chrome_driver_path = 'C:\\Program Files (x86)\\Google\\Chrome\\Application\\chrome'\n",
    "service = Service(chrome_driver_path)\n",
    "driver = webdriver.Chrome(service=service)\n",
    "\n",
    "# Navigate to the page with player stats\n",
    "player_stats_url = 'https://nisaofficial.com/league-stats'\n",
    "driver.get(player_stats_url)\n",
    "\n",
    "# Interaction with the first button (year selection)\n",
    "year_button = WebDriverWait(driver, 15).until(EC.element_to_be_clickable((By.ID, 'select2-year-container')))\n",
    "year_button.click()\n",
    "\n",
    "# Get the available year options from the drop-down menu\n",
    "year_options = driver.find_elements(By.CSS_SELECTOR, 'li.select2-results__option')\n",
    "for option in year_options:\n",
    "    print(option.text)  # Print the available year options\n",
    "\n",
    "# Quit the browser\n",
    "driver.quit()"
   ]
  },
  {
   "cell_type": "markdown",
   "id": "6f5b0c9f",
   "metadata": {},
   "source": [
    "## Run the below cell to see the filters you can chose based on the year you're interested in."
   ]
  },
  {
   "cell_type": "code",
   "execution_count": 8,
   "id": "fbc9d7cd",
   "metadata": {},
   "outputs": [
    {
     "name": "stdout",
     "output_type": "stream",
     "text": [
      "Choose Type\n",
      "Championship\n",
      "Exhibition\n",
      "NISA Challenge Cup\n",
      "Playoffs\n",
      "Regular Season\n",
      "US Open Cup\n"
     ]
    }
   ],
   "source": [
    "print_options_for_year('2023')"
   ]
  },
  {
   "cell_type": "markdown",
   "id": "1a48d621",
   "metadata": {},
   "source": [
    "## Table Selection\n",
    "### Run both cells for every table you want to download. All you need to do is change are the arguements in the 'download_table()' function. The first arguement is the type of table you want to download (optional arguements come from the 'print_options_for_year()' function. The second arguement is what year you want to pull a table from, and the third is what you want the file to be called. You will need to end the file name with '.csv' and the file will be downloaded into a directory called 'data'. You do not have to create this directory yourself. The 'create_df()' function will do this for you. Finally, make sure your agruements are encased in apostrophes or quotations."
   ]
  },
  {
   "cell_type": "code",
   "execution_count": 9,
   "id": "577028ef",
   "metadata": {},
   "outputs": [],
   "source": [
    "chrome_driver_path = 'C:\\Program Files (x86)\\Google\\Chrome\\Application\\chrome'\n",
    "\n",
    "# Start Chrome with Selenium\n",
    "service = Service(chrome_driver_path)\n",
    "driver = webdriver.Chrome(service=service)\n",
    "\n",
    "# Navigate to the page\n",
    "URL = 'https://nisaofficial.com/league-stats'\n",
    "driver.get(URL)"
   ]
  },
  {
   "cell_type": "code",
   "execution_count": 10,
   "id": "8078eb04",
   "metadata": {},
   "outputs": [
    {
     "name": "stdout",
     "output_type": "stream",
     "text": [
      "                     TEAM  GP GOALS SHOTS YEL RED\n",
      "0          Chattanooga FC  15    30    99  27   0\n",
      "1     Maryland Bobcats FC  17    23    84  27   1\n",
      "2        ALBION San Diego  16    19    87  33   4\n",
      "3       Los Angeles Force  13    17    69  28   3\n",
      "4         Club de Lyon FC  14    16    75  55   1\n",
      "5       Flower City Union  13    16    62  31   1\n",
      "6    Gold Star FC Detroit  13    16    66  37   2\n",
      "7       Michigan Stars FC  13    15    53  32   3\n",
      "8     Savannah Clovers FC  14     7    44  33   2\n"
     ]
    }
   ],
   "source": [
    "download_table('Regular Season', '2023', 'regseason_leaguestat_2023.csv')"
   ]
  },
  {
   "cell_type": "code",
   "execution_count": null,
   "id": "48eccd4a",
   "metadata": {},
   "outputs": [],
   "source": []
  }
 ],
 "metadata": {
  "kernelspec": {
   "display_name": "Python 3 (ipykernel)",
   "language": "python",
   "name": "python3"
  },
  "language_info": {
   "codemirror_mode": {
    "name": "ipython",
    "version": 3
   },
   "file_extension": ".py",
   "mimetype": "text/x-python",
   "name": "python",
   "nbconvert_exporter": "python",
   "pygments_lexer": "ipython3",
   "version": "3.10.9"
  }
 },
 "nbformat": 4,
 "nbformat_minor": 5
}
