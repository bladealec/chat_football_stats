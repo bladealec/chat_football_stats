{
 "cells": [
  {
   "cell_type": "markdown",
   "id": "7682435f",
   "metadata": {},
   "source": [
    "# This notebook gathers data of NISA league stats tables"
   ]
  },
  {
   "cell_type": "code",
   "execution_count": null,
   "id": "d06b354f",
   "metadata": {},
   "outputs": [],
   "source": [
    "import requests\n",
    "from bs4 import BeautifulSoup as BS\n",
    "import pandas as pd\n",
    "import os\n",
    "\n",
    "from selenium import webdriver\n",
    "from selenium.webdriver.chrome.service import Service\n",
    "from selenium.webdriver.common.by import By\n",
    "from selenium.webdriver.support.ui import WebDriverWait\n",
    "from selenium.webdriver.support import expected_conditions as EC"
   ]
  },
  {
   "cell_type": "code",
   "execution_count": null,
   "id": "27314788",
   "metadata": {},
   "outputs": [],
   "source": [
    "# Optional cell, stretches cell width for better readability\n",
    "from IPython.core.display import HTML\n",
    "\n",
    "custom_css = \"\"\"\n",
    "<style>\n",
    ".container { width: 100% !important; }\n",
    ".code_cell { flex-grow: 1; width: 100% !important; }\n",
    ".code_cell .input_area { width: 100% !important; }\n",
    "</style>\n",
    "\"\"\"\n",
    "\n",
    "display(HTML(custom_css))"
   ]
  },
  {
   "cell_type": "code",
   "execution_count": null,
   "id": "1953fcd9",
   "metadata": {},
   "outputs": [],
   "source": [
    "def extract_stats_table(soup):\n",
    "    \n",
    "    table = soup.find('table')\n",
    "    \n",
    "     # Extract the table data into a list of dictionaries\n",
    "    data = []\n",
    "    rows = table.find_all('tr')\n",
    "    headers = [header.get_text(strip=True) for header in rows[0].find_all('th')]\n",
    "    \n",
    "    for row in rows[1:]:\n",
    "        values = [cell.get_text(strip=True) for cell in row.find_all(['td', 'th'])]\n",
    "        data.append(dict(zip(headers, values)))\n",
    "\n",
    "    # Creating DataFrame\n",
    "    league_stats_df = pd.DataFrame(data)\n",
    "\n",
    "    return(league_stats_df)"
   ]
  },
  {
   "cell_type": "code",
   "execution_count": null,
   "id": "6c31633b",
   "metadata": {},
   "outputs": [],
   "source": [
    "def create_df(csv_filename):\n",
    "    \n",
    "    soup = BS(driver.page_source,'html.parser')\n",
    "    \n",
    "    league_stats_df = extract_stats_table(soup)\n",
    "    \n",
    "    # Creates a \"data\" folder if it doesn't exist\n",
    "    data_folder = 'data'\n",
    "    if not os.path.exists(data_folder):\n",
    "        os.makedirs(data_folder)\n",
    "    \n",
    "    #Saves the dataframe locally to a csv\n",
    "    csv_filepath = os.path.join(data_folder, csv_filename)\n",
    "    league_stats_df.to_csv(csv_filepath, index=False)\n",
    "    \n",
    "    print(league_stats_df)"
   ]
  },
  {
   "cell_type": "code",
   "execution_count": null,
   "id": "e119418f",
   "metadata": {},
   "outputs": [],
   "source": [
    "def download_table(desired_table, desired_year, file_name):\n",
    "    \n",
    "    # Find and click the button to open the drop-down for selecting the year\n",
    "    year_button = driver.find_element(By.CSS_SELECTOR, 'span#select2-year-container')\n",
    "    year_button.click()\n",
    "\n",
    "    # Find and click the specific year option in the drop-down\n",
    "    year_option = WebDriverWait(driver, 15).until(EC.element_to_be_clickable((By.XPATH, f'//li[text()=\"{desired_year}\"]')))\n",
    "    year_option.click()\n",
    "\n",
    "    # Find and click the button to open the drop-down for selecting the table\n",
    "    table_button = driver.find_element(By.CSS_SELECTOR, 'span#select2-type-container')\n",
    "    table_button.click()\n",
    "\n",
    "    # Find and click the specific table option in the drop-down\n",
    "    table_option = WebDriverWait(driver, 15).until(EC.element_to_be_clickable((By.XPATH, f'//li[text()=\"{desired_table}\"]')))\n",
    "    table_option.click()\n",
    "\n",
    "    # Call create_df function to download the table data\n",
    "    create_df(f\"{file_name}_{desired_year}.csv\")\n",
    "\n",
    "    driver.quit()"
   ]
  },
  {
   "cell_type": "code",
   "execution_count": null,
   "id": "5c1006bb",
   "metadata": {},
   "outputs": [],
   "source": [
    "def print_options_for_year(desired_year):\n",
    "    \n",
    "    driver = webdriver.Chrome()\n",
    "\n",
    "    # Navigating to the page\n",
    "    URL = 'https://nisaofficial.com/league-stats'\n",
    "    driver.get(URL)\n",
    "\n",
    "    # Find and click the button to open the drop-down for selecting the year\n",
    "    year_button = driver.find_element(By.CSS_SELECTOR, 'span#select2-year-container')\n",
    "    year_button.click()\n",
    "\n",
    "    # Find and click the specific year option in the drop-down\n",
    "    year_option = WebDriverWait(driver, 15).until(EC.element_to_be_clickable((By.XPATH, f'//li[text()=\"{desired_year}\"]')))\n",
    "    year_option.click()\n",
    "\n",
    "    # Wait for the third button to be clickable\n",
    "    WebDriverWait(driver, 15).until(EC.element_to_be_clickable((By.CSS_SELECTOR, 'span#select2-type-container')))\n",
    "\n",
    "    # Hover over the third button to trigger its drop-down\n",
    "    third_button = driver.find_element(By.CSS_SELECTOR, 'span#select2-type-container')\n",
    "    driver.execute_script(\"arguments[0].click();\", third_button)\n",
    "\n",
    "    # Wait for the drop-down to open\n",
    "    table_dropdown = WebDriverWait(driver, 15).until(EC.presence_of_element_located((By.CSS_SELECTOR, 'select#type')))\n",
    "\n",
    "    # Find the drop-down options and print their text\n",
    "    options = table_dropdown.find_elements(By.TAG_NAME, 'option')\n",
    "    for option in options:\n",
    "        print(option.text)\n",
    "    \n",
    "    driver.quit()"
   ]
  },
  {
   "cell_type": "markdown",
   "id": "db48ffe1",
   "metadata": {},
   "source": [
    "## Run the below cell to see all the available years."
   ]
  },
  {
   "cell_type": "code",
   "execution_count": null,
   "id": "617d8dc0",
   "metadata": {},
   "outputs": [],
   "source": [
    "# Start Chrome with Selenium\n",
    "driver = webdriver.Chrome()\n",
    "\n",
    "# Navigate to the page with player stats\n",
    "player_stats_url = 'https://nisaofficial.com/league-stats'\n",
    "driver.get(player_stats_url)\n",
    "\n",
    "# Interaction with the first button (year selection)\n",
    "year_button = WebDriverWait(driver, 15).until(EC.element_to_be_clickable((By.ID, 'select2-year-container')))\n",
    "year_button.click()\n",
    "\n",
    "# Get the available year options from the drop-down menu\n",
    "year_options = driver.find_elements(By.CSS_SELECTOR, 'li.select2-results__option')\n",
    "years = [option.text for option in year_options]\n",
    "print(years)\n",
    "\n",
    "# Quit the browser\n",
    "driver.quit()"
   ]
  },
  {
   "cell_type": "markdown",
   "id": "6f5b0c9f",
   "metadata": {},
   "source": [
    "## Run the below cell to see the filters you can chose based on the year you're interested in."
   ]
  },
  {
   "cell_type": "code",
   "execution_count": null,
   "id": "fbc9d7cd",
   "metadata": {},
   "outputs": [],
   "source": [
    "print_options_for_year('2023')"
   ]
  },
  {
   "cell_type": "markdown",
   "id": "1a48d621",
   "metadata": {},
   "source": [
    "## Table Selection\n",
    "### Run both cells for every table you want to download. All you need to do is change are the arguements in the 'download_table()' function. The first arguement is the type of table you want to download (optional arguements come from the 'print_options_for_year()' function. The second arguement is what year you want to pull a table from, and the third is what you want the file to be called. You do not need to end the file name with '.csv'. The file will be downloaded into a directory called 'data'. You do not have to create this directory yourself. The 'create_df()' function will do this for you. Finally, make sure your agruements are encased in apostrophes or quotations."
   ]
  },
  {
   "cell_type": "code",
   "execution_count": null,
   "id": "577028ef",
   "metadata": {},
   "outputs": [],
   "source": [
    "# Start Chrome with Selenium\n",
    "driver = webdriver.Chrome()\n",
    "\n",
    "# Navigate to the page\n",
    "URL = 'https://nisaofficial.com/league-stats'\n",
    "driver.get(URL)"
   ]
  },
  {
   "cell_type": "code",
   "execution_count": null,
   "id": "8078eb04",
   "metadata": {},
   "outputs": [],
   "source": [
    "download_table('Regular Season', '2023', 'regseason_leaguestat')"
   ]
  },
  {
   "cell_type": "markdown",
   "id": "d68a4d8f",
   "metadata": {},
   "source": [
    "## Use the below cell to download all Regular Season Tables\n",
    "### You have to choose 'Choose Type' to get the regular season stats of years besides 2023. This is the only way to refresh the table. If you have the program click on 'Regular Season' it will not refresh the table and will keep giving you the data from 2023."
   ]
  },
  {
   "cell_type": "code",
   "execution_count": null,
   "id": "3c74b281",
   "metadata": {},
   "outputs": [],
   "source": [
    "# Loop through the years and download tables\n",
    "for year in years:\n",
    "    \n",
    "    print(f'\\nLeague Stats for {year}')\n",
    "    \n",
    "    # Start Chrome with Selenium\n",
    "    driver = webdriver.Chrome()\n",
    "\n",
    "    # Navigate to the page\n",
    "    URL = 'https://nisaofficial.com/league-stats'\n",
    "    driver.get(URL)\n",
    "    \n",
    "    download_table('Choose Type', year, 'regseason_leaguestat')"
   ]
  },
  {
   "cell_type": "markdown",
   "id": "94633b91",
   "metadata": {},
   "source": [
    "## Below will concat all the tables into one given you used the same file naming."
   ]
  },
  {
   "cell_type": "code",
   "execution_count": null,
   "id": "faf92cb7",
   "metadata": {},
   "outputs": [],
   "source": [
    "data_frames = []\n",
    "\n",
    "# Read and preprocess data for each year\n",
    "for year in years:\n",
    "    filename = f'data/regseason_leaguestat_{year}.csv'\n",
    "    df = pd.read_csv(filename)\n",
    "    \n",
    "    # Remove the first column\n",
    "    df = df.iloc[:, 1:]\n",
    "    \n",
    "    # Add a column for the year\n",
    "    df['Year'] = year\n",
    "    \n",
    "    # Append the modified DataFrame to the list\n",
    "    data_frames.append(df)\n",
    "\n",
    "# Concatenate all DataFrames into a single DataFrame\n",
    "complete_regseason_leaguestat_df = pd.concat(data_frames, ignore_index=True)\n",
    "\n",
    "# Change column names\n",
    "column_name_mapping = {\n",
    "    'TEAM': 'Team Name',\n",
    "    'GP': 'Games Played',\n",
    "    'GOALS': 'Goals Scored',\n",
    "    'SHOTS': 'Total Shots',\n",
    "    'YEL': 'Yellow Cards',\n",
    "    'RED': 'Red Cards',\n",
    "    'Year': 'Year'\n",
    "}\n",
    "\n",
    "complete_regseason_leaguestat_df = complete_regseason_leaguestat_df.rename(columns=column_name_mapping)\n",
    "\n",
    "# Save the concatenated DataFrame to a CSV file\n",
    "complete_regseason_leaguestat_df.to_csv('complete_regseason_leaguestat.csv', index=False)\n",
    "\n",
    "print(complete_regseason_leaguestat_df)"
   ]
  },
  {
   "cell_type": "code",
   "execution_count": null,
   "id": "b073be17",
   "metadata": {},
   "outputs": [],
   "source": []
  }
 ],
 "metadata": {
  "kernelspec": {
   "display_name": "Python 3 (ipykernel)",
   "language": "python",
   "name": "python3"
  },
  "language_info": {
   "codemirror_mode": {
    "name": "ipython",
    "version": 3
   },
   "file_extension": ".py",
   "mimetype": "text/x-python",
   "name": "python",
   "nbconvert_exporter": "python",
   "pygments_lexer": "ipython3",
   "version": "3.10.9"
  }
 },
 "nbformat": 4,
 "nbformat_minor": 5
}
