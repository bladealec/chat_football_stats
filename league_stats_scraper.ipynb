{
 "cells": [
  {
   "cell_type": "markdown",
   "id": "7682435f",
   "metadata": {},
   "source": [
    "# This notebook gathers data of NISA league stats tables"
   ]
  },
  {
   "cell_type": "code",
   "execution_count": 1,
   "id": "d06b354f",
   "metadata": {},
   "outputs": [],
   "source": [
    "import requests\n",
    "from bs4 import BeautifulSoup as BS\n",
    "import pandas as pd\n",
    "import os\n",
    "\n",
    "from selenium import webdriver\n",
    "from selenium.webdriver.chrome.service import Service\n",
    "from selenium.webdriver.common.by import By\n",
    "from selenium.webdriver.support.ui import WebDriverWait\n",
    "from selenium.webdriver.support import expected_conditions as EC"
   ]
  },
  {
   "cell_type": "code",
   "execution_count": 2,
   "id": "27314788",
   "metadata": {},
   "outputs": [
    {
     "data": {
      "text/html": [
       "\n",
       "<style>\n",
       ".container { width: 100% !important; }\n",
       ".code_cell { flex-grow: 1; width: 100% !important; }\n",
       ".code_cell .input_area { width: 100% !important; }\n",
       "</style>\n"
      ],
      "text/plain": [
       "<IPython.core.display.HTML object>"
      ]
     },
     "metadata": {},
     "output_type": "display_data"
    }
   ],
   "source": [
    "# Optional cell, stretches cell width for better readability\n",
    "from IPython.core.display import HTML\n",
    "\n",
    "custom_css = \"\"\"\n",
    "<style>\n",
    ".container { width: 100% !important; }\n",
    ".code_cell { flex-grow: 1; width: 100% !important; }\n",
    ".code_cell .input_area { width: 100% !important; }\n",
    "</style>\n",
    "\"\"\"\n",
    "\n",
    "display(HTML(custom_css))"
   ]
  },
  {
   "cell_type": "code",
   "execution_count": 3,
   "id": "1953fcd9",
   "metadata": {},
   "outputs": [],
   "source": [
    "def extract_stats_table(soup):\n",
    "    \n",
    "    table = soup.find('table')\n",
    "    \n",
    "     # Extract the table data into a list of dictionaries\n",
    "    data = []\n",
    "    rows = table.find_all('tr')\n",
    "    headers = [header.get_text(strip=True) for header in rows[0].find_all('th')]\n",
    "    \n",
    "    for row in rows[1:]:\n",
    "        values = [cell.get_text(strip=True) for cell in row.find_all(['td', 'th'])]\n",
    "        data.append(dict(zip(headers, values)))\n",
    "\n",
    "    # Creating DataFrame\n",
    "    league_stats_df = pd.DataFrame(data)\n",
    "\n",
    "    return(league_stats_df)"
   ]
  },
  {
   "cell_type": "code",
   "execution_count": 4,
   "id": "6c31633b",
   "metadata": {},
   "outputs": [],
   "source": [
    "def create_df(csv_filename):\n",
    "    \n",
    "    soup = BS(driver.page_source,'html.parser')\n",
    "    \n",
    "    league_stats_df = extract_stats_table(soup)\n",
    "    \n",
    "    # Creates a \"data\" folder if it doesn't exist\n",
    "    data_folder = 'data'\n",
    "    if not os.path.exists(data_folder):\n",
    "        os.makedirs(data_folder)\n",
    "    \n",
    "    #Saves the dataframe locally to a csv\n",
    "    csv_filepath = os.path.join(data_folder, csv_filename)\n",
    "    league_stats_df.to_csv(csv_filepath, index=False)\n",
    "    \n",
    "    print(league_stats_df)"
   ]
  },
  {
   "cell_type": "code",
   "execution_count": 5,
   "id": "e119418f",
   "metadata": {},
   "outputs": [],
   "source": [
    "def download_table(desired_table, desired_year, file_name):\n",
    "    \n",
    "    # Find and click the button to open the drop-down for selecting the year\n",
    "    year_button = driver.find_element(By.CSS_SELECTOR, 'span#select2-year-container')\n",
    "    year_button.click()\n",
    "\n",
    "    # Find and click the specific year option in the drop-down\n",
    "    year_option = WebDriverWait(driver, 15).until(EC.element_to_be_clickable((By.XPATH, f'//li[text()=\"{desired_year}\"]')))\n",
    "    year_option.click()\n",
    "\n",
    "    # Find and click the button to open the drop-down for selecting the table\n",
    "    table_button = driver.find_element(By.CSS_SELECTOR, 'span#select2-type-container')\n",
    "    table_button.click()\n",
    "\n",
    "    # Find and click the specific table option in the drop-down\n",
    "    table_option = WebDriverWait(driver, 15).until(EC.element_to_be_clickable((By.XPATH, f'//li[text()=\"{desired_table}\"]')))\n",
    "    table_option.click()\n",
    "\n",
    "    # Call create_df function to download the table data\n",
    "    create_df(f\"{file_name}_{desired_year}.csv\")\n",
    "\n",
    "    driver.quit()"
   ]
  },
  {
   "cell_type": "code",
   "execution_count": 6,
   "id": "5c1006bb",
   "metadata": {},
   "outputs": [],
   "source": [
    "def print_options_for_year(desired_year):\n",
    "    \n",
    "    driver = webdriver.Chrome()\n",
    "\n",
    "    # Navigating to the page\n",
    "    URL = 'https://nisaofficial.com/league-stats'\n",
    "    driver.get(URL)\n",
    "\n",
    "    # Find and click the button to open the drop-down for selecting the year\n",
    "    year_button = driver.find_element(By.CSS_SELECTOR, 'span#select2-year-container')\n",
    "    year_button.click()\n",
    "\n",
    "    # Find and click the specific year option in the drop-down\n",
    "    year_option = WebDriverWait(driver, 15).until(EC.element_to_be_clickable((By.XPATH, f'//li[text()=\"{desired_year}\"]')))\n",
    "    year_option.click()\n",
    "\n",
    "    # Wait for the third button to be clickable\n",
    "    WebDriverWait(driver, 15).until(EC.element_to_be_clickable((By.CSS_SELECTOR, 'span#select2-type-container')))\n",
    "\n",
    "    # Hover over the third button to trigger its drop-down\n",
    "    third_button = driver.find_element(By.CSS_SELECTOR, 'span#select2-type-container')\n",
    "    driver.execute_script(\"arguments[0].click();\", third_button)\n",
    "\n",
    "    # Wait for the drop-down to open\n",
    "    table_dropdown = WebDriverWait(driver, 15).until(EC.presence_of_element_located((By.CSS_SELECTOR, 'select#type')))\n",
    "\n",
    "    # Find the drop-down options and print their text\n",
    "    options = table_dropdown.find_elements(By.TAG_NAME, 'option')\n",
    "    for option in options:\n",
    "        print(option.text)\n",
    "    \n",
    "    driver.quit()"
   ]
  },
  {
   "cell_type": "markdown",
   "id": "db48ffe1",
   "metadata": {},
   "source": [
    "## Run the below cell to see all the available years."
   ]
  },
  {
   "cell_type": "code",
   "execution_count": 7,
   "id": "617d8dc0",
   "metadata": {},
   "outputs": [
    {
     "name": "stdout",
     "output_type": "stream",
     "text": [
      "['2019-2020', '2020-2021', '2021', '2022', '2023']\n"
     ]
    }
   ],
   "source": [
    "# Start Chrome with Selenium\n",
    "driver = webdriver.Chrome()\n",
    "\n",
    "# Navigate to the page with player stats\n",
    "player_stats_url = 'https://nisaofficial.com/league-stats'\n",
    "driver.get(player_stats_url)\n",
    "\n",
    "# Interaction with the first button (year selection)\n",
    "year_button = WebDriverWait(driver, 15).until(EC.element_to_be_clickable((By.ID, 'select2-year-container')))\n",
    "year_button.click()\n",
    "\n",
    "# Get the available year options from the drop-down menu\n",
    "year_options = driver.find_elements(By.CSS_SELECTOR, 'li.select2-results__option')\n",
    "years = [option.text for option in year_options]\n",
    "print(years)\n",
    "\n",
    "# Quit the browser\n",
    "driver.quit()"
   ]
  },
  {
   "cell_type": "markdown",
   "id": "6f5b0c9f",
   "metadata": {},
   "source": [
    "## Run the below cell to see the filters you can chose based on the year you're interested in."
   ]
  },
  {
   "cell_type": "code",
   "execution_count": 8,
   "id": "fbc9d7cd",
   "metadata": {},
   "outputs": [
    {
     "name": "stdout",
     "output_type": "stream",
     "text": [
      "Choose Type\n",
      "Championship\n",
      "Exhibition\n",
      "NISA Challenge Cup\n",
      "Playoffs\n",
      "Regular Season\n",
      "US Open Cup\n"
     ]
    }
   ],
   "source": [
    "print_options_for_year('2023')"
   ]
  },
  {
   "cell_type": "markdown",
   "id": "1a48d621",
   "metadata": {},
   "source": [
    "## Table Selection\n",
    "### Run both cells for every table you want to download. All you need to do is change are the arguements in the 'download_table()' function. The first arguement is the type of table you want to download (optional arguements come from the 'print_options_for_year()' function. The second arguement is what year you want to pull a table from, and the third is what you want the file to be called. You do not need to end the file name with '.csv'. The file will be downloaded into a directory called 'data'. You do not have to create this directory yourself. The 'create_df()' function will do this for you. Finally, make sure your agruements are encased in apostrophes or quotations."
   ]
  },
  {
   "cell_type": "code",
   "execution_count": 9,
   "id": "577028ef",
   "metadata": {},
   "outputs": [],
   "source": [
    "# Start Chrome with Selenium\n",
    "driver = webdriver.Chrome()\n",
    "\n",
    "# Navigate to the page\n",
    "URL = 'https://nisaofficial.com/league-stats'\n",
    "driver.get(URL)"
   ]
  },
  {
   "cell_type": "code",
   "execution_count": 10,
   "id": "8078eb04",
   "metadata": {},
   "outputs": [
    {
     "name": "stdout",
     "output_type": "stream",
     "text": [
      "                     TEAM  GP GOALS SHOTS YEL RED\n",
      "0          Chattanooga FC  16    30   105  29   0\n",
      "1     Maryland Bobcats FC  18    24    89  28   1\n",
      "2        ALBION San Diego  17    19    91  36   4\n",
      "3         Club de Lyon FC  16    19    86  59   1\n",
      "4       Los Angeles Force  15    19    78  32   3\n",
      "5       Michigan Stars FC  15    18    60  35   4\n",
      "6       Flower City Union  17    17    78  41   2\n",
      "7    Gold Star FC Detroit  14    16    68  38   2\n",
      "8     Savannah Clovers FC  16     9    62  37   2\n"
     ]
    }
   ],
   "source": [
    "download_table('Regular Season', '2023', 'regseason_leaguestat')"
   ]
  },
  {
   "cell_type": "markdown",
   "id": "d68a4d8f",
   "metadata": {},
   "source": [
    "## Use the below cell to download all Regular Season Tables\n",
    "### You have to choose 'Choose Type' to get the regular season stats of years besides 2023. This is the only way to refresh the table. If you have the program click on 'Regular Season' it will not refresh the table and will keep giving you the data from 2023."
   ]
  },
  {
   "cell_type": "code",
   "execution_count": 11,
   "id": "3c74b281",
   "metadata": {},
   "outputs": [
    {
     "name": "stdout",
     "output_type": "stream",
     "text": [
      "\n",
      "League Stats for 2019-2020\n",
      "                       TEAM GP GOALS SHOTS YEL RED\n",
      "0                  Miami FC  7    22    41   5   1\n",
      "1    Cal United Strikers FC  7    17    34  10   0\n",
      "2              NISA Atlanta  6    13    15   9   0\n",
      "3        Stumptown Athletic  6    13     5   6   0\n",
      "4          Oakland Roots SC  6    10    19  15   1\n",
      "5          ALBION San Diego  5     9    49  11   1\n",
      "6         Los Angeles Force  5     6    12  17   0\n",
      "7         Philadelphia Fury  6     1     8   2   0\n",
      "\n",
      "League Stats for 2020-2021\n",
      "                         TEAM GP GOALS SHOTS YEL RED\n",
      "0              Chattanooga FC  3     9     0   0   0\n",
      "1          Lone Star Republic  3     9     0   0   0\n",
      "2         Maryland Bobcats FC  3     9     0   0   0\n",
      "3             Detroit City FC  2     6     0   0   0\n",
      "4       FC Baltimore Christos  3     6     0   0   0\n",
      "5                    Gaffa FC  3     4     0   0   0\n",
      "6                Soda City FC  3     4     0   0   0\n",
      "7                Cleveland SC  2     3     0   0   0\n",
      "8       Georgia Revolution FC  3     3     0   0   0\n",
      "9          Louisiana Krewe II  2     3     0   0   0\n",
      "10        Savannah Clovers FC  3     2     0   0   0\n",
      "11                 FC Buffalo  2     1     0   0   0\n",
      "12    Mansfield Revolution SC  2     1     0   0   0\n",
      "\n",
      "League Stats for 2021\n",
      "                        TEAM GP GOALS SHOTS YEL RED\n",
      "0            Detroit City FC  3    17     0   0   0\n",
      "1                 FC Buffalo  3    11     0   0   0\n",
      "2       FC Milwaukee Torrent  3    11     0   0   0\n",
      "3             Chattanooga FC  3    10     0   0   0\n",
      "4       Magia Futbol Academy  3     9     0   0   0\n",
      "5             Chula Vista FC  3     7     0   0   0\n",
      "6                     PDX FC  2     7     0   0   0\n",
      "7              ASC San Diego  3     6     0   0   0\n",
      "8              Bay Cities FC  3     6     0   0   0\n",
      "9           Atletico Atlanta  3     5     0   0   0\n",
      "10    Cal United Strikers FC  2     5     0   0   0\n",
      "11         Los Angeles Force  3     5     0   0   0\n",
      "12       Savannah Clovers FC  3     5     0   0   0\n",
      "13        Lone Star Republic  3     4     0   0   0\n",
      "14               Med City FC  3     4     0   0   0\n",
      "15          Newtown Pride FC  3     4     0   0   0\n",
      "16              Space United  2     4     0   0   0\n",
      "17            Steel Pulse FC  3     4     0   0   0\n",
      "18        Atletico Olympians  2     3     0   0   0\n",
      "19      Lansdowne Yonkers FC  2     3     0   0   0\n",
      "20               Texas Spurs  3     3     0   0   0\n",
      "21           Alexandria PBFC  3     2     0   0   0\n",
      "22       Allentown United FC  3     2     0   0   0\n",
      "23          Atlantic City FC  3     2     0   0   0\n",
      "24        Louisiana Krewe II  3     2     0   0   0\n",
      "25       Maryland Bobcats FC  3     2     0   0   0\n",
      "26          Mass United Rush  2     2     0   0   0\n",
      "27              Soda City FC  3     2     0   0   0\n",
      "28            Cal Victory FC  1     1     0   0   0\n",
      "29              Cleveland SC  2     1     0   0   0\n",
      "30                FC Arizona  2     1     0   0   0\n",
      "31          Union Dubuque FC  3     1     0   0   0\n",
      "32           Livonia City FC  2     0     0   0   0\n",
      "\n",
      "League Stats for 2022\n",
      "                       TEAM  GP GOALS SHOTS YEL RED\n",
      "0            Chattanooga FC  24    44   123  38   2\n",
      "1    Cal United Strikers FC  21    35   152  21   1\n",
      "2       Maryland Bobcats FC  23    32   113  52   3\n",
      "3          ALBION San Diego  20    28   106  58   5\n",
      "4         Michigan Stars FC  23    27   106  48   2\n",
      "5            Syracuse Pulse  22    26   135  49   5\n",
      "6             Bay Cities FC  12    18    61  22   3\n",
      "7         Los Angeles Force  20    14   123  38   2\n",
      "8         Flower City Union  23    13   105  49   1\n",
      "\n",
      "League Stats for 2023\n",
      "                     TEAM  GP GOALS SHOTS YEL RED\n",
      "0          Chattanooga FC  16    30   105  29   0\n",
      "1     Maryland Bobcats FC  18    24    89  28   1\n",
      "2        ALBION San Diego  17    19    91  36   4\n",
      "3         Club de Lyon FC  16    19    86  59   1\n",
      "4       Los Angeles Force  15    19    78  32   3\n",
      "5       Michigan Stars FC  15    18    60  35   4\n",
      "6       Flower City Union  17    17    78  41   2\n",
      "7    Gold Star FC Detroit  14    16    68  38   2\n",
      "8     Savannah Clovers FC  16     9    62  37   2\n"
     ]
    }
   ],
   "source": [
    "# Loop through the years and download tables\n",
    "for year in years:\n",
    "    \n",
    "    print(f'\\nLeague Stats for {year}')\n",
    "    \n",
    "    # Start Chrome with Selenium\n",
    "    driver = webdriver.Chrome()\n",
    "\n",
    "    # Navigate to the page\n",
    "    URL = 'https://nisaofficial.com/league-stats'\n",
    "    driver.get(URL)\n",
    "    \n",
    "    download_table('Choose Type', year, 'regseason_leaguestat')"
   ]
  },
  {
   "cell_type": "markdown",
   "id": "94633b91",
   "metadata": {},
   "source": [
    "## Below will concat all the tables into one given you used the same file naming."
   ]
  },
  {
   "cell_type": "code",
   "execution_count": 12,
   "id": "faf92cb7",
   "metadata": {},
   "outputs": [
    {
     "name": "stdout",
     "output_type": "stream",
     "text": [
      "                      TEAM  GP  GOALS  SHOTS  YEL  RED       Year\n",
      "0                 Miami FC   7     22     41    5    1  2019-2020\n",
      "1   Cal United Strikers FC   7     17     34   10    0  2019-2020\n",
      "2             NISA Atlanta   6     13     15    9    0  2019-2020\n",
      "3       Stumptown Athletic   6     13      5    6    0  2019-2020\n",
      "4         Oakland Roots SC   6     10     19   15    1  2019-2020\n",
      "..                     ...  ..    ...    ...  ...  ...        ...\n",
      "67       Los Angeles Force  15     19     78   32    3       2023\n",
      "68       Michigan Stars FC  15     18     60   35    4       2023\n",
      "69       Flower City Union  17     17     78   41    2       2023\n",
      "70    Gold Star FC Detroit  14     16     68   38    2       2023\n",
      "71     Savannah Clovers FC  16      9     62   37    2       2023\n",
      "\n",
      "[72 rows x 7 columns]\n"
     ]
    }
   ],
   "source": [
    "data_frames = []\n",
    "\n",
    "# Read and preprocess data for each year\n",
    "for year in years:\n",
    "    filename = f'data/regseason_leaguestat_{year}.csv'\n",
    "    df = pd.read_csv(filename)\n",
    "    \n",
    "    # Remove the first column\n",
    "    df = df.iloc[:, 1:]\n",
    "    \n",
    "    # Add a column for the year\n",
    "    df['Year'] = year\n",
    "    \n",
    "    # Append the modified DataFrame to the list\n",
    "    data_frames.append(df)\n",
    "\n",
    "# Concatenate all DataFrames into a single DataFrame\n",
    "complete_regseason_leaguestat_df = pd.concat(data_frames, ignore_index=True)\n",
    "\n",
    "# Save the concatenated DataFrame to a CSV file\n",
    "complete_regseason_leaguestat_df.to_csv('complete_regseason_leaguestat.csv', index=False)\n",
    "\n",
    "print(complete_regseason_leaguestat_df)"
   ]
  },
  {
   "cell_type": "code",
   "execution_count": 13,
   "id": "30d6f5b1",
   "metadata": {},
   "outputs": [],
   "source": [
    "complete_regseason_leaguestat_df.to_csv('data/complete_regseason_leaguestat_df.csv')"
   ]
  },
  {
   "cell_type": "code",
   "execution_count": null,
   "id": "b073be17",
   "metadata": {},
   "outputs": [],
   "source": []
  }
 ],
 "metadata": {
  "kernelspec": {
   "display_name": "Python 3 (ipykernel)",
   "language": "python",
   "name": "python3"
  },
  "language_info": {
   "codemirror_mode": {
    "name": "ipython",
    "version": 3
   },
   "file_extension": ".py",
   "mimetype": "text/x-python",
   "name": "python",
   "nbconvert_exporter": "python",
   "pygments_lexer": "ipython3",
   "version": "3.10.9"
  }
 },
 "nbformat": 4,
 "nbformat_minor": 5
}
