{
 "cells": [
  {
   "cell_type": "markdown",
   "id": "5ec44b9b",
   "metadata": {},
   "source": [
    "# This notebook gathers data of NISA team stadings tables\n",
    "### (completed)"
   ]
  },
  {
   "cell_type": "code",
   "execution_count": 1,
   "id": "6f3a51f1",
   "metadata": {},
   "outputs": [],
   "source": [
    "import requests\n",
    "from bs4 import BeautifulSoup as BS\n",
    "import pandas as pd\n",
    "import os\n",
    "\n",
    "from selenium import webdriver\n",
    "from selenium.webdriver.chrome.service import Service\n",
    "from selenium.webdriver.common.by import By\n",
    "from selenium.webdriver.support.ui import WebDriverWait\n",
    "from selenium.webdriver.support import expected_conditions as EC"
   ]
  },
  {
   "cell_type": "code",
   "execution_count": 1,
   "id": "ffc63f97",
   "metadata": {},
   "outputs": [
    {
     "data": {
      "text/html": [
       "\n",
       "<style>\n",
       ".container { width: 100% !important; }\n",
       ".code_cell { flex-grow: 1; width: 100% !important; }\n",
       ".code_cell .input_area { width: 100% !important; }\n",
       "</style>\n"
      ],
      "text/plain": [
       "<IPython.core.display.HTML object>"
      ]
     },
     "metadata": {},
     "output_type": "display_data"
    }
   ],
   "source": [
    "# Optional cell, stretches cell width for better readability\n",
    "from IPython.core.display import HTML\n",
    "\n",
    "custom_css = \"\"\"\n",
    "<style>\n",
    ".container { width: 100% !important; }\n",
    ".code_cell { flex-grow: 1; width: 100% !important; }\n",
    ".code_cell .input_area { width: 100% !important; }\n",
    "</style>\n",
    "\"\"\"\n",
    "\n",
    "display(HTML(custom_css))"
   ]
  },
  {
   "cell_type": "code",
   "execution_count": 3,
   "id": "c3650f9a",
   "metadata": {},
   "outputs": [],
   "source": [
    "def extract_standings_table(soup):\n",
    "    \n",
    "    table = soup.find('table')\n",
    "    \n",
    "     # Extract the table data into a list of dictionaries\n",
    "    data = []\n",
    "    rows = table.find_all('tr')\n",
    "    headers = [header.get_text(strip=True) for header in rows[0].find_all('th')]\n",
    "    \n",
    "    for row in rows[1:]:\n",
    "        values = [cell.get_text(strip=True) for cell in row.find_all(['td', 'th'])]\n",
    "        data.append(dict(zip(headers, values)))\n",
    "\n",
    "    # Creating DataFrame\n",
    "    team_standings_df = pd.DataFrame(data)\n",
    "\n",
    "    # Cleaning up DataFrame\n",
    "    team_standings_df = team_standings_df.replace(r'\\n', '', regex=True)  # Removes newline characters\n",
    "    team_standings_df['TEAM'] = team_standings_df['TEAM'].str.strip()  # Strips leading/trailing spaces\n",
    "\n",
    "    return(team_standings_df)"
   ]
  },
  {
   "cell_type": "code",
   "execution_count": 4,
   "id": "b35aa19f",
   "metadata": {},
   "outputs": [],
   "source": [
    "def create_df(csv_filename):\n",
    "    \n",
    "    soup = BS(driver.page_source,'html.parser')\n",
    "    \n",
    "    team_standings_df = extract_standings_table(soup)\n",
    "    \n",
    "    # Creates a \"data\" folder if it doesn't exist\n",
    "    data_folder = 'data'\n",
    "    if not os.path.exists(data_folder):\n",
    "        os.makedirs(data_folder)\n",
    "    \n",
    "    #Saves the dataframe locally to a csv\n",
    "    csv_filepath = os.path.join(data_folder, csv_filename)\n",
    "    team_standings_df.to_csv(csv_filepath, index=False)\n",
    "    \n",
    "    print(team_standings_df)"
   ]
  },
  {
   "cell_type": "code",
   "execution_count": 5,
   "id": "371f6289",
   "metadata": {},
   "outputs": [],
   "source": [
    "def download_table(desired_table, year, file_name):\n",
    "    \n",
    "    # Finding all available options in the dropdown list for tables and initialize the selected option ID\n",
    "    options = driver.find_elements(By.CSS_SELECTOR, 'li.select2-results__option')\n",
    "    dynamic_part = None\n",
    "\n",
    "    # Looping through the available options to find the desired year group\n",
    "    for option in options:\n",
    "        # Getting the year group options, which are elements with class \"select2-results__group\"\n",
    "        year_group = option.find_elements(By.CLASS_NAME, 'select2-results__group')\n",
    "        # Checking if the desired year is in the text of any year group option\n",
    "        if year in [group.get_attribute('innerText') for group in year_group]:\n",
    "            # If the desired year is found in a year group option then we check the nested options for the desired table\n",
    "            nested_options = option.find_elements(By.CLASS_NAME, 'select2-results__option')\n",
    "            for nested_option in nested_options:\n",
    "                # Checking if the desired table is in the text of the nested option\n",
    "                if desired_table in nested_option.get_attribute('innerText'):\n",
    "                    # If the desired table is found then we get its ID, which is used to select the option\n",
    "                    dynamic_part = nested_option.get_attribute('id')\n",
    "                    break\n",
    "            if dynamic_part:\n",
    "                break\n",
    "\n",
    "    if not dynamic_part:\n",
    "        print(f\"No option found for {desired_table} in {year}\")\n",
    "    else:\n",
    "        table_select = WebDriverWait(driver, 15).until(EC.element_to_be_clickable((By.CSS_SELECTOR, f'#{dynamic_part}')))\n",
    "        table_select.click()\n",
    "\n",
    "        create_df(file_name)\n",
    "\n",
    "    driver.quit()"
   ]
  },
  {
   "cell_type": "markdown",
   "id": "052bfdbe",
   "metadata": {},
   "source": [
    "### Run the below cell to see all the tables you can download.\n",
    "#### (Independent cups for 2023 and 2022 are currenlty unavailable on the NISA website)"
   ]
  },
  {
   "cell_type": "code",
   "execution_count": 9,
   "id": "b07a4bf6",
   "metadata": {},
   "outputs": [
    {
     "name": "stdout",
     "output_type": "stream",
     "text": [
      "2019-2020Fall ShowcaseSpring Season\n",
      "Fall Showcase\n",
      "Spring Season\n",
      "2020-2021Fall ChampionshipFall SeasonIndependent CupLegends CupSpring Season\n",
      "Fall Championship\n",
      "Fall Season\n",
      "Independent Cup\n",
      "Legends Cup\n",
      "Spring Season\n",
      "2021Independent CupFall Season\n",
      "Independent Cup\n",
      "Fall Season\n",
      "20222022 Season2022 Independent Cup\n",
      "2022 Season\n",
      "2022 Independent Cup\n",
      "20232023 Season2023 Independent Cup\n",
      "2023 Season\n",
      "2023 Independent Cup\n"
     ]
    }
   ],
   "source": [
    "# This may need to be changed based on the file path to your chrome application\n",
    "chrome_driver_path = 'C:\\Program Files (x86)\\Google\\Chrome\\Application\\chrome'\n",
    "\n",
    "# Starting Chrome with Selenium\n",
    "service = Service(chrome_driver_path)\n",
    "driver = webdriver.Chrome(service=service)\n",
    "\n",
    "# Navigating to the page\n",
    "URL = 'https://nisaofficial.com/standings'\n",
    "driver.get(URL)\n",
    "\n",
    "# Interacting with the page to get to the dropdown selector\n",
    "button1 = WebDriverWait(driver, 15).until(EC.element_to_be_clickable((By.CSS_SELECTOR, '#selectSeason')))\n",
    "button1.click()\n",
    "\n",
    "button2 = WebDriverWait(driver, 15).until(EC.element_to_be_clickable((By.CSS_SELECTOR, '#select2-year-container')))\n",
    "button2.click()\n",
    "\n",
    "# Extracting the HTML code of the dropdown options\n",
    "dropdown_html_code = driver.find_element(By.CLASS_NAME, 'select2-results').get_attribute('outerHTML')\n",
    "\n",
    "# Finding all the options in the dropdown selector\n",
    "dropdown_soup = BS(dropdown_html_code, 'html.parser')\n",
    "options = dropdown_soup.select('li.select2-results__option')\n",
    "\n",
    "for option in options:\n",
    "    print(option.text)\n",
    "    \n",
    "driver.quit()"
   ]
  },
  {
   "cell_type": "markdown",
   "id": "19eb2e5c",
   "metadata": {},
   "source": [
    "### Table Selection\n",
    "#### Run both cells for every table you want to download. All you need to do is change are the arguements in the 'download_table()' function. The first arguement is the table you want to download, the second arguement is what year you want to pull a table from, and the third is what you want the file to be called. You will need to end the file name with '.csv' and the file will be downloaded into a directory called 'data'. You do not have to create this directory yourself. The 'create_df()' function will do this for you. Finally, make sure your agruements are encased in apostrophes or quotations."
   ]
  },
  {
   "cell_type": "code",
   "execution_count": 7,
   "id": "1c8dadae",
   "metadata": {},
   "outputs": [],
   "source": [
    "# This may need to be changed based on the file path to your chrome application\n",
    "chrome_driver_path = 'C:\\Program Files (x86)\\Google\\Chrome\\Application\\chrome'\n",
    "\n",
    "# Starting Chrome with Selenium\n",
    "service = Service(chrome_driver_path)\n",
    "driver = webdriver.Chrome(service=service)\n",
    "\n",
    "# Navigating to the page\n",
    "URL = 'https://nisaofficial.com/standings'\n",
    "driver.get(URL)\n",
    "\n",
    "# Interacting with the page to get to the dropdown selector\n",
    "button1 = WebDriverWait(driver, 15).until(EC.element_to_be_clickable((By.CSS_SELECTOR, '#selectSeason')))\n",
    "button1.click()\n",
    "\n",
    "button2 = WebDriverWait(driver, 15).until(EC.element_to_be_clickable((By.CSS_SELECTOR, '#select2-year-container')))\n",
    "button2.click()"
   ]
  },
  {
   "cell_type": "code",
   "execution_count": 8,
   "id": "12ff5112",
   "metadata": {},
   "outputs": [
    {
     "name": "stdout",
     "output_type": "stream",
     "text": [
      "     P                      TEAM GP  W  D  L H (W-D-L) A (W-D-L) Latest  GF  \\\n",
      "0    1           Detroit City FC  3  3  0  0     2-0-0     1-0-0    WWW  17   \n",
      "1    2      FC Milwaukee Torrent  3  3  0  0     2-0-0     1-0-0    WWW  11   \n",
      "2    3            Chattanooga FC  3  3  0  0     2-0-0     1-0-0    WWW  10   \n",
      "3    4       Maryland Bobcats FC  3  2  1  0     1-1-0     1-0-0    WWT   2   \n",
      "4    5        Louisiana Krewe II  3  2  1  0     2-0-0     0-1-0    TWW   2   \n",
      "5    6                FC Buffalo  3  2  0  1     2-0-0     0-0-1    WWL  11   \n",
      "6    7    Cal United Strikers FC  2  2  0  0     1-0-0     1-0-0     WW   5   \n",
      "7    8         Los Angeles Force  3  2  0  1     1-0-0     1-0-1    WLW   5   \n",
      "8    9      Lansdowne Yonkers FC  2  2  0  0     1-0-0     1-0-0     WW   3   \n",
      "9   10            Steel Pulse FC  3  1  2  0     1-1-0     0-1-0    WTT   4   \n",
      "10  11          Chicago House AC  3  1  1  1     0-0-0     1-1-1    WTL   6   \n",
      "11  12      Magia Futbol Academy  3  1  1  1     0-0-1     1-1-0    LWT   9   \n",
      "12  13                    PDX FC  2  1  1  0     1-0-0     0-1-0     WT   7   \n",
      "13  14          New Amsterdam FC  3  1  1  1     1-0-1     0-1-0    WLT   3   \n",
      "14  15        Lone Star Republic  3  1  1  1     1-1-0     0-0-1    WLT   4   \n",
      "15  16             ASC San Diego  3  1  1  1     1-0-1     0-1-0    TWL   6   \n",
      "16  17               Med City FC  3  1  1  1     1-1-0     0-0-1    LTW   4   \n",
      "17  18               Texas Spurs  3  0  3  0     0-1-0     0-2-0    TTT   3   \n",
      "18  19        Atletico Olympians  2  1  0  1     1-0-1     0-0-0     WL   3   \n",
      "19  20       Allentown United FC  3  1  0  2     1-0-0     0-0-2    LLW   2   \n",
      "20  21              Space United  2  0  2  0     0-1-0     0-1-0     TT   4   \n",
      "21  22          Atletico Atlanta  3  0  2  1     0-1-0     0-1-1    TTL   5   \n",
      "22  23          Newtown Pride FC  3  0  2  1     0-2-0     0-0-1    TTL   4   \n",
      "23  24            Chula Vista FC  3  0  2  1     0-2-0     0-0-1    TLT   7   \n",
      "24  25             Bay Cities FC  3  0  2  1     0-2-0     0-0-1    TLT   6   \n",
      "25  26       Savannah Clovers FC  3  0  2  1     0-1-1     0-1-0    TLT   5   \n",
      "26  27              Soda City FC  3  0  2  1     0-1-0     0-1-1    LTT   2   \n",
      "27  28            Cal Victory FC  1  0  1  0     0-0-0     0-1-0      T   1   \n",
      "28  29          Atlantic City FC  3  0  1  2     0-0-1     0-1-1    LTL   2   \n",
      "29  30          Mass United Rush  2  0  1  1     0-0-0     0-1-1     TL   2   \n",
      "30  31           Alexandria PBFC  3  0  1  2     0-1-0     0-0-2    LLT   2   \n",
      "31  32                FC Arizona  2  0  0  2     0-0-0     0-0-2     LL   1   \n",
      "32  33              Cleveland SC  2  0  0  2     0-0-1     0-0-1     LL   1   \n",
      "33  34          Union Dubuque FC  3  0  0  3     0-0-2     0-0-1    LLL   1   \n",
      "34  35           Livonia City FC  2  0  0  2     0-0-0     0-0-2     LL   0   \n",
      "\n",
      "    GA   GD PTS  \n",
      "0    2   15   9  \n",
      "1    1   10   9  \n",
      "2    0   10   9  \n",
      "3    0    2   7  \n",
      "4    0    2   7  \n",
      "5    3    8   6  \n",
      "6    1    4   6  \n",
      "7    3    2   6  \n",
      "8    1    2   6  \n",
      "9    1    3   5  \n",
      "10   3    3   4  \n",
      "11   7    2   4  \n",
      "12   5    2   4  \n",
      "13   2    1   4  \n",
      "14   4    0   4  \n",
      "15   8   -2   4  \n",
      "16   6   -2   4  \n",
      "17   3    0   3  \n",
      "18   5   -2   3  \n",
      "19   5   -3   3  \n",
      "20   4    0   2  \n",
      "21   6   -1   2  \n",
      "22   5   -1   2  \n",
      "23   9   -2   2  \n",
      "24   8   -2   2  \n",
      "25   9   -4   2  \n",
      "26   7   -5   2  \n",
      "27   1    0   1  \n",
      "28   4   -2   1  \n",
      "29   4   -2   1  \n",
      "30   4   -2   1  \n",
      "31   3   -2   0  \n",
      "32  11  -10   0  \n",
      "33  12  -11   0  \n",
      "34  13  -13   0  \n"
     ]
    }
   ],
   "source": [
    "download_table('Independent Cup', '2021', '2021_IndependentCup.csv')"
   ]
  },
  {
   "cell_type": "code",
   "execution_count": null,
   "id": "4c0b20f1",
   "metadata": {},
   "outputs": [],
   "source": []
  }
 ],
 "metadata": {
  "kernelspec": {
   "display_name": "Python 3 (ipykernel)",
   "language": "python",
   "name": "python3"
  },
  "language_info": {
   "codemirror_mode": {
    "name": "ipython",
    "version": 3
   },
   "file_extension": ".py",
   "mimetype": "text/x-python",
   "name": "python",
   "nbconvert_exporter": "python",
   "pygments_lexer": "ipython3",
   "version": "3.10.9"
  }
 },
 "nbformat": 4,
 "nbformat_minor": 5
}
