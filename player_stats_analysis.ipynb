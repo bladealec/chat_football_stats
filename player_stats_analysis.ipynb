{
 "cells": [
  {
   "cell_type": "code",
   "execution_count": null,
   "id": "344ea67d",
   "metadata": {},
   "outputs": [],
   "source": [
    "import pandas as pd\n",
    "import matplotlib.pyplot as plt\n",
    "import seaborn as sns"
   ]
  },
  {
   "cell_type": "code",
   "execution_count": null,
   "id": "6a081415",
   "metadata": {},
   "outputs": [],
   "source": [
    "playerstat_fall_2019 = pd.read_csv('data/all_playerstat_fall_2019.csv')\n",
    "playerstat_spring_2020 = pd.read_csv('data/all_playerstat_spring_2020.csv')\n",
    "playerstat_fall_2020 = pd.read_csv('data/all_playerstat_fall_2020.csv')\n",
    "playerstat_spring_2021 = pd.read_csv('data/all_playerstat_spring_2021.csv')\n",
    "playerstat_fall_2021 = pd.read_csv('data/all_playerstat_fall_2021.csv')\n",
    "playerstat_2022 = pd.read_csv('data/all_playerstat_2022.csv')\n",
    "playerstat_2023 = pd.read_csv('data/all_playerstat_2023.csv')"
   ]
  },
  {
   "cell_type": "code",
   "execution_count": null,
   "id": "21b59594",
   "metadata": {},
   "outputs": [],
   "source": [
    "playerstat_fall_2019.head()"
   ]
  },
  {
   "cell_type": "code",
   "execution_count": null,
   "id": "5055ada8",
   "metadata": {},
   "outputs": [],
   "source": [
    "playerstat_fall_2019['Year'] = '2019'\n",
    "playerstat_fall_2019['Season'] = 'Fall'\n",
    "playerstat_spring_2020['Year'] = '2020'\n",
    "playerstat_spring_2020['Season'] = 'Spring'\n",
    "playerstat_fall_2020['Year'] = '2020'\n",
    "playerstat_fall_2020['Season'] = 'Fall'\n",
    "playerstat_fall_2021['Year'] = '2021'\n",
    "playerstat_fall_2021['Season'] = 'Spring'\n",
    "playerstat_fall_2021['Year'] = '2021'\n",
    "playerstat_fall_2021['Season'] = 'Fall'\n",
    "playerstat_2022['Year'] = '2022'\n",
    "playerstat_2022['Season'] = 'Fall'\n",
    "playerstat_2023['Year'] = '2023'\n",
    "playerstat_2023['Season'] = 'Fall'"
   ]
  },
  {
   "cell_type": "code",
   "execution_count": null,
   "id": "b0dfd276",
   "metadata": {},
   "outputs": [],
   "source": [
    "playerstats_df = pd.concat([playerstat_fall_2019, playerstat_spring_2020, playerstat_fall_2020,\n",
    "                            playerstat_spring_2021, playerstat_fall_2021, playerstat_2022,\n",
    "                            playerstat_2023], ignore_index = True)"
   ]
  },
  {
   "cell_type": "code",
   "execution_count": null,
   "id": "65f4b668",
   "metadata": {},
   "outputs": [],
   "source": [
    "playerstats_df"
   ]
  },
  {
   "cell_type": "code",
   "execution_count": null,
   "id": "ce2c7ea8",
   "metadata": {},
   "outputs": [],
   "source": [
    "# Renaming columns\n",
    "new_column_names = {\n",
    "    \"Pos\": \"Position\",\n",
    "    \"Name\": \"Player Name\",\n",
    "    \"Team\": \"Team\",\n",
    "    \"GP\": \"Games Played\",\n",
    "    \"GS\": \"Games Started\",\n",
    "    \"MIN\": \"Minutes Played\",\n",
    "    \"G\": \"Goals\",\n",
    "    \"A\": \"Assists\",\n",
    "    \"SH\": \"Shots\",\n",
    "    \"Y\": \"Yellow Cards\",\n",
    "    \"R\": \"Red Cards\",\n",
    "    \"Year\": \"Year\",\n",
    "    \"Season\": \"Season\"\n",
    "}\n",
    "\n",
    "playerstats_df = playerstats_df.rename(columns=new_column_names)"
   ]
  },
  {
   "cell_type": "code",
   "execution_count": null,
   "id": "6a33166e",
   "metadata": {},
   "outputs": [],
   "source": [
    "# Replacing team abbreviations with full names\n",
    "team_abbreviations_to_full = {\n",
    "    'OAK': 'Oakland Roots SC',\n",
    "    'CUSFC': 'California United Strikers FC',\n",
    "    'MIA': 'The Miami FC',\n",
    "    'LAF': 'Los Angeles Force',\n",
    "    'SDFC': 'San Diego 1904 FC',\n",
    "    'SA': 'Stumptown Athletic',\n",
    "    'DCFC': 'Detroit City FC',\n",
    "    'MBFC': 'Maryland Bobcats FC',\n",
    "    'MISFC': 'Michigan Stars FC',\n",
    "    'NAFC': 'New Amsterdam FC',\n",
    "    'CFC': 'Chattanooga FC',\n",
    "    'COS': 'The New York Cosmos'\n",
    "}\n",
    "\n",
    "playerstats_df['Team'] = playerstats_df['Team'].map(team_abbreviations_to_full)"
   ]
  },
  {
   "cell_type": "code",
   "execution_count": null,
   "id": "485436d5",
   "metadata": {},
   "outputs": [],
   "source": [
    "# Display basic information about the DataFrame\n",
    "playerstats_df.info()"
   ]
  },
  {
   "cell_type": "code",
   "execution_count": null,
   "id": "6eb69b6f",
   "metadata": {},
   "outputs": [],
   "source": [
    "# Display summary statistics\n",
    "playerstats_df.describe()"
   ]
  },
  {
   "cell_type": "code",
   "execution_count": null,
   "id": "cfdadc19",
   "metadata": {},
   "outputs": [],
   "source": [
    "# Correlation heatmap\n",
    "corr_matrix = playerstats_df.corr()\n",
    "plt.figure(figsize=(10, 8))\n",
    "sns.heatmap(corr_matrix, annot=True, cmap=\"coolwarm\")\n",
    "plt.title(\"Correlation Heatmap\")\n",
    "plt.show()"
   ]
  },
  {
   "cell_type": "code",
   "execution_count": null,
   "id": "6a2209ce",
   "metadata": {},
   "outputs": [],
   "source": [
    "# Distribution of Goals (G) and Assists (A)\n",
    "plt.figure(figsize=(10, 6))\n",
    "sns.histplot(data=playerstats_df, x=\"Goals\", bins=10, kde=True, color=\"blue\", label=\"Goals\")\n",
    "sns.histplot(data=playerstats_df, x=\"Assists\", bins=10, kde=True, color=\"orange\", label=\"Assists\")\n",
    "plt.title(\"Distribution of Goals and Assists\")\n",
    "plt.xlabel(\"Count\")\n",
    "plt.ylabel(\"Frequency\")\n",
    "plt.legend()\n",
    "plt.show()"
   ]
  },
  {
   "cell_type": "code",
   "execution_count": null,
   "id": "bb58eb76",
   "metadata": {},
   "outputs": [],
   "source": [
    "# Finding the top 3 players with the most goals, assists, yellow cards, and red cards\n",
    "player_stats_agg = playerstats_df.groupby('Player Name').agg({\n",
    "    'Goals': 'sum',\n",
    "    'Assists': 'sum',\n",
    "    'Yellow Cards': 'sum',\n",
    "    'Red Cards': 'sum',\n",
    "    'Team': 'last'\n",
    "})\n",
    "\n",
    "top_goals_players = player_stats_agg.nlargest(3, 'Goals')\n",
    "top_assists_players = player_stats_agg.nlargest(3, 'Assists')\n",
    "top_yellow_cards_players = player_stats_agg.nlargest(3, 'Yellow Cards')\n",
    "top_red_cards_players = player_stats_agg.nlargest(3, 'Red Cards')\n",
    "\n",
    "print(\"Top 3 Players with Most All-Time Goals:\")\n",
    "print(top_goals_players[['Goals', 'Team']])\n",
    "\n",
    "print(\"\\nTop 3 Players with Most All-Time Assists:\")\n",
    "print(top_assists_players[['Assists', 'Team']])\n",
    "\n",
    "print(\"\\nTop 3 Players with Most All-Time Yellow Cards:\")\n",
    "print(top_yellow_cards_players[['Yellow Cards', 'Team']])\n",
    "\n",
    "print(\"\\nTop 3 Players with Most All-Time Red Cards:\")\n",
    "print(top_red_cards_players[['Red Cards', 'Team']])\n"
   ]
  },
  {
   "cell_type": "code",
   "execution_count": null,
   "id": "88c14add",
   "metadata": {},
   "outputs": [],
   "source": [
    "# Finding the players in 2023 with the most goals, assists, yellow cards, and red cards for each club\n",
    "playerstats_2023 = playerstats_df[playerstats_df['Year'] == '2023']\n",
    "\n",
    "goals_max_2023 = playerstats_2023.groupby(['Season', 'Team'])['Goals'].idxmax()\n",
    "assists_max_2023 = playerstats_2023.groupby(['Season', 'Team'])['Assists'].idxmax()\n",
    "yellow_cards_max_2023 = playerstats_2023.groupby(['Season', 'Team'])['Yellow Cards'].idxmax()\n",
    "red_cards_max_2023 = playerstats_2023.groupby(['Season', 'Team'])['Red Cards'].idxmax()\n",
    "\n",
    "most_goals_2023 = playerstats_2023.loc[goals_max_2023][['Season', 'Team', 'Player Name', 'Goals']]\n",
    "most_assists_2023 = playerstats_2023.loc[assists_max_2023][['Season', 'Team', 'Player Name', 'Assists']]\n",
    "most_yellow_cards_2023 = playerstats_2023.loc[yellow_cards_max_2023][['Season', 'Team', 'Player Name', 'Yellow Cards']]\n",
    "most_red_cards_2023 = playerstats_2023.loc[red_cards_max_2023][['Season', 'Team', 'Player Name', 'Red Cards']]\n",
    "\n",
    "print(\"Most Goals in 2023:\")\n",
    "print(most_goals_2023)\n",
    "\n",
    "print(\"\\nMost Assists in 2023:\")\n",
    "print(most_assists_2023)\n",
    "\n",
    "print(\"\\nMost Yellow Cards in 2023:\")\n",
    "print(most_yellow_cards_2023)\n",
    "\n",
    "print(\"\\nMost Red Cards in 2023:\")\n",
    "print(most_red_cards_2023)"
   ]
  },
  {
   "cell_type": "code",
   "execution_count": null,
   "id": "70161fc8",
   "metadata": {},
   "outputs": [],
   "source": [
    "playerstats_df.to_csv('data/complete_player_stats.csv', index=False)"
   ]
  },
  {
   "cell_type": "code",
   "execution_count": null,
   "id": "d1848a56",
   "metadata": {},
   "outputs": [],
   "source": []
  }
 ],
 "metadata": {
  "kernelspec": {
   "display_name": "Python 3 (ipykernel)",
   "language": "python",
   "name": "python3"
  },
  "language_info": {
   "codemirror_mode": {
    "name": "ipython",
    "version": 3
   },
   "file_extension": ".py",
   "mimetype": "text/x-python",
   "name": "python",
   "nbconvert_exporter": "python",
   "pygments_lexer": "ipython3",
   "version": "3.10.9"
  }
 },
 "nbformat": 4,
 "nbformat_minor": 5
}
