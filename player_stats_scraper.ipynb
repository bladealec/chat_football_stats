{
 "cells": [
  {
   "cell_type": "markdown",
   "id": "61602b81",
   "metadata": {},
   "source": [
    "# This notebook gathers data of NISA player stats tables"
   ]
  },
  {
   "cell_type": "code",
   "execution_count": 1,
   "id": "8c581f22",
   "metadata": {},
   "outputs": [],
   "source": [
    "import requests\n",
    "from bs4 import BeautifulSoup as BS\n",
    "import pandas as pd\n",
    "import os\n",
    "\n",
    "from selenium import webdriver\n",
    "from selenium.webdriver.chrome.service import Service\n",
    "from selenium.webdriver.common.by import By\n",
    "from selenium.webdriver.support.ui import WebDriverWait\n",
    "from selenium.webdriver.support import expected_conditions as EC\n",
    "from selenium.webdriver.common.action_chains import ActionChains"
   ]
  },
  {
   "cell_type": "code",
   "execution_count": 2,
   "id": "12b2b697",
   "metadata": {},
   "outputs": [
    {
     "data": {
      "text/html": [
       "\n",
       "<style>\n",
       ".container { width: 100% !important; }\n",
       ".code_cell { flex-grow: 1; width: 100% !important; }\n",
       ".code_cell .input_area { width: 100% !important; }\n",
       "</style>\n"
      ],
      "text/plain": [
       "<IPython.core.display.HTML object>"
      ]
     },
     "metadata": {},
     "output_type": "display_data"
    }
   ],
   "source": [
    "# Optional cell, stretches cell width for better readability\n",
    "from IPython.core.display import HTML\n",
    "\n",
    "custom_css = \"\"\"\n",
    "<style>\n",
    ".container { width: 100% !important; }\n",
    ".code_cell { flex-grow: 1; width: 100% !important; }\n",
    ".code_cell .input_area { width: 100% !important; }\n",
    "</style>\n",
    "\"\"\"\n",
    "\n",
    "display(HTML(custom_css))"
   ]
  },
  {
   "cell_type": "code",
   "execution_count": 3,
   "id": "048f5ab1",
   "metadata": {},
   "outputs": [],
   "source": [
    "def extract_stats_table(soup):\n",
    "    table = soup.find('table')\n",
    "    \n",
    "    # Extract the table headers from the header row\n",
    "    header_row = table.find('thead').find('tr')\n",
    "    headers = [header.get_text(strip=True) for header in header_row.find_all('th')]\n",
    "\n",
    "    # Extract the table data from the data rows\n",
    "    data = []\n",
    "    data_rows = table.find('tbody').find_all('tr')\n",
    "    \n",
    "    for row in data_rows:\n",
    "        values = [cell.get_text(strip=True) for cell in row.find_all('td')]\n",
    "        data.append(dict(zip(headers, values)))\n",
    "        \n",
    "    # Creating DataFrame\n",
    "    player_stats_df = pd.DataFrame(data)\n",
    "\n",
    "    return player_stats_df"
   ]
  },
  {
   "cell_type": "code",
   "execution_count": 4,
   "id": "45b87b63",
   "metadata": {},
   "outputs": [],
   "source": [
    "def create_df(csv_filename):\n",
    "    \n",
    "    soup = BS(driver.page_source,'html.parser')\n",
    "    \n",
    "    player_stats_df = extract_stats_table(soup)\n",
    "    \n",
    "    # Creates a \"data\" folder if it doesn't exist\n",
    "    data_folder = 'data'\n",
    "    if not os.path.exists(data_folder):\n",
    "        os.makedirs(data_folder)\n",
    "    \n",
    "    #Saves the dataframe locally to a csv\n",
    "    csv_filepath = os.path.join(data_folder, csv_filename)\n",
    "    player_stats_df.to_csv(csv_filepath, index=False)\n",
    "    \n",
    "    print(player_stats_df)"
   ]
  },
  {
   "cell_type": "code",
   "execution_count": 5,
   "id": "bd05db55",
   "metadata": {},
   "outputs": [],
   "source": [
    "def download_table(desired_table, desired_year, file_name):\n",
    "    # Find and click the button to open the drop-down for selecting the year\n",
    "    year_button = driver.find_element(By.CSS_SELECTOR, 'span#select2-year-container')\n",
    "    year_button.click()\n",
    "\n",
    "    # Find and click the specific year option in the drop-down\n",
    "    year_option = WebDriverWait(driver, 15).until(EC.element_to_be_clickable((By.XPATH, f'//li[text()=\"{desired_year}\"]')))\n",
    "    year_option.click()\n",
    "\n",
    "    # Find and click the button to open the drop-down for selecting the table (third button)\n",
    "    table_button = driver.find_element(By.CSS_SELECTOR, 'span#select2-type-container')\n",
    "    table_button.click()\n",
    "\n",
    "    # Find and click the specific table option in the drop-down\n",
    "    table_option = WebDriverWait(driver, 15).until(EC.element_to_be_clickable((By.XPATH, f'//li[text()=\"{desired_table}\"]')))\n",
    "    table_option.click()\n",
    "\n",
    "    # Call create_df function to download the table data\n",
    "    create_df(file_name)\n",
    "\n",
    "    driver.quit()"
   ]
  },
  {
   "cell_type": "code",
   "execution_count": 6,
   "id": "f1fa9b4a",
   "metadata": {},
   "outputs": [],
   "source": [
    "def print_options_for_year(desired_year):\n",
    "    \n",
    "    chrome_driver_path = 'C:\\Program Files (x86)\\Google\\Chrome\\Application\\chrome'\n",
    "\n",
    "    # Starting Chrome with Selenium\n",
    "    service = Service(chrome_driver_path)\n",
    "    driver = webdriver.Chrome(service=service)\n",
    "\n",
    "    # Navigating to the page\n",
    "    URL = 'https://nisaofficial.com/player-stats'\n",
    "    driver.get(URL)\n",
    "\n",
    "    # Find and click the button to open the drop-down for selecting the year\n",
    "    year_button = driver.find_element(By.CSS_SELECTOR, 'span#select2-year-container')\n",
    "    year_button.click()\n",
    "\n",
    "    # Find and click the specific year option in the drop-down\n",
    "    year_option = WebDriverWait(driver, 15).until(EC.element_to_be_clickable((By.XPATH, f'//li[text()=\"{desired_year}\"]')))\n",
    "    year_option.click()\n",
    "\n",
    "    # Wait for the third button to be clickable\n",
    "    WebDriverWait(driver, 15).until(EC.element_to_be_clickable((By.CSS_SELECTOR, 'span#select2-type-container')))\n",
    "\n",
    "    # Hover over the third button to trigger its drop-down\n",
    "    third_button = driver.find_element(By.CSS_SELECTOR, 'span#select2-type-container')\n",
    "    driver.execute_script(\"arguments[0].click();\", third_button)\n",
    "\n",
    "    # Wait for the drop-down to open\n",
    "    table_dropdown = WebDriverWait(driver, 15).until(EC.presence_of_element_located((By.CSS_SELECTOR, 'select#type')))\n",
    "\n",
    "    # Find the drop-down options and print their text\n",
    "    options = table_dropdown.find_elements(By.TAG_NAME, 'option')\n",
    "    for option in options:\n",
    "        print(option.text)\n",
    "    \n",
    "    driver.quit()"
   ]
  },
  {
   "cell_type": "markdown",
   "id": "6fc606e6",
   "metadata": {},
   "source": [
    "## Run the below cell to see all the available years."
   ]
  },
  {
   "cell_type": "code",
   "execution_count": 7,
   "id": "2a8b4aad",
   "metadata": {},
   "outputs": [
    {
     "name": "stdout",
     "output_type": "stream",
     "text": [
      "2019-2020\n",
      "2020-2021\n",
      "2021\n",
      "2022\n",
      "2023\n"
     ]
    }
   ],
   "source": [
    "# Start Chrome with Selenium\n",
    "chrome_driver_path = 'C:\\Program Files (x86)\\Google\\Chrome\\Application\\chrome'\n",
    "service = Service(chrome_driver_path)\n",
    "driver = webdriver.Chrome(service=service)\n",
    "\n",
    "# Navigate to the page with player stats\n",
    "player_stats_url = 'https://nisaofficial.com/player-stats'\n",
    "driver.get(player_stats_url)\n",
    "\n",
    "# Interaction with the first button (year selection)\n",
    "year_button = WebDriverWait(driver, 15).until(EC.element_to_be_clickable((By.ID, 'select2-year-container')))\n",
    "year_button.click()\n",
    "\n",
    "# Get the available year options from the drop-down menu\n",
    "year_options = driver.find_elements(By.CSS_SELECTOR, 'li.select2-results__option')\n",
    "for option in year_options:\n",
    "    print(option.text)  # Print the available year options\n",
    "\n",
    "# Quit the browser\n",
    "driver.quit()"
   ]
  },
  {
   "cell_type": "markdown",
   "id": "21bc1c2f",
   "metadata": {},
   "source": [
    "## Run the below cell to see the filters you can chose based on the year you're interested in."
   ]
  },
  {
   "cell_type": "code",
   "execution_count": 8,
   "id": "1a324cfc",
   "metadata": {},
   "outputs": [
    {
     "name": "stdout",
     "output_type": "stream",
     "text": [
      "Choose Type\n",
      "Championship\n",
      "NISA Challenge Cup\n",
      "Playoffs\n",
      "Quarterfinals\n",
      "Regular Season\n",
      "Semifinals\n",
      "US Open Cup\n",
      "All\n"
     ]
    }
   ],
   "source": [
    "print_options_for_year('2023')"
   ]
  },
  {
   "cell_type": "markdown",
   "id": "bfeb9036",
   "metadata": {},
   "source": [
    "## Table Selection\n",
    "### Run both cells for every table you want to download. All you need to do is change are the arguements in the 'download_table()' function. The first arguement is the type of table you want to download (optional arguements come from the 'print_options_for_year()' function. The second arguement is what year you want to pull a table from, and the third is what you want the file to be called. You will need to end the file name with '.csv' and the file will be downloaded into a directory called 'data'. You do not have to create this directory yourself. The 'create_df()' function will do this for you. Finally, make sure your agruements are encased in apostrophes or quotations."
   ]
  },
  {
   "cell_type": "code",
   "execution_count": 9,
   "id": "4d14f66e",
   "metadata": {},
   "outputs": [],
   "source": [
    "chrome_driver_path = 'C:\\Program Files (x86)\\Google\\Chrome\\Application\\chrome'\n",
    "\n",
    "# Start Chrome with Selenium\n",
    "service = Service(chrome_driver_path)\n",
    "driver = webdriver.Chrome(service=service)\n",
    "\n",
    "# Navigate to the page\n",
    "URL = 'https://nisaofficial.com/player-stats'\n",
    "driver.get(URL)"
   ]
  },
  {
   "cell_type": "code",
   "execution_count": 10,
   "id": "0e0a3dbd",
   "metadata": {},
   "outputs": [
    {
     "name": "stdout",
     "output_type": "stream",
     "text": [
      "      #         Pos                Name  Team  GP  GS   MIN   G  A  SH  Y  R\n",
      "0    99     Forward   Naglestad, Markus   CFC  14  14  1122  11  0  23  1  0\n",
      "1    11     Forward     Espinal, Darwin  MBFC  17  17  1395   9  5  35  0  0\n",
      "2     9     Forward        Maric , Leon  MICH  15  15  1321   6  2   8  3  0\n",
      "3    09     Forward  Ten Lopez, Ignacio   CDL  10  10   810   6  0  11  5  0\n",
      "4     9     Forward   Diakhate, Alioune   FCU  11  10   863   5  1   9  2  0\n",
      "..   ..         ...                 ...   ...  ..  ..   ...  .. ..  .. .. ..\n",
      "222   2    Defender    Villatoro, Erick   LAF  13  10   885   0  1   1  1  0\n",
      "223   3    Defender      Wichmann, Theo   SAV   9   8   621   0  0   2  2  0\n",
      "224   1  Goalkeeper      Wilson, Trevor   FCU   2   2   180   0  0   0  0  0\n",
      "225  24     Forward         Woods, Alex   SAV   8   1   106   0  0   0  1  0\n",
      "226  22    Defender      Yriarte, Tomas   CDL  15   7   677   0  0   1  2  0\n",
      "\n",
      "[227 rows x 12 columns]\n"
     ]
    }
   ],
   "source": [
    "download_table('Regular Season', '2023', 'regseason_playerstat_2023.csv')"
   ]
  },
  {
   "cell_type": "code",
   "execution_count": null,
   "id": "c53cc858",
   "metadata": {},
   "outputs": [],
   "source": []
  }
 ],
 "metadata": {
  "kernelspec": {
   "display_name": "Python 3 (ipykernel)",
   "language": "python",
   "name": "python3"
  },
  "language_info": {
   "codemirror_mode": {
    "name": "ipython",
    "version": 3
   },
   "file_extension": ".py",
   "mimetype": "text/x-python",
   "name": "python",
   "nbconvert_exporter": "python",
   "pygments_lexer": "ipython3",
   "version": "3.10.9"
  }
 },
 "nbformat": 4,
 "nbformat_minor": 5
}
