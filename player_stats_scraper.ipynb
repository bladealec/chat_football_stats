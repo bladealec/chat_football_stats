{
 "cells": [
  {
   "cell_type": "markdown",
   "id": "61602b81",
   "metadata": {},
   "source": [
    "# This notebook gathers data of NISA player stats tables"
   ]
  },
  {
   "cell_type": "code",
   "execution_count": null,
   "id": "8c581f22",
   "metadata": {},
   "outputs": [],
   "source": [
    "import requests\n",
    "from bs4 import BeautifulSoup as BS\n",
    "import pandas as pd\n",
    "import os\n",
    "\n",
    "from selenium import webdriver\n",
    "from selenium.webdriver.chrome.service import Service\n",
    "from selenium.webdriver.common.by import By\n",
    "from selenium.webdriver.support.ui import WebDriverWait\n",
    "from selenium.webdriver.support import expected_conditions as EC\n",
    "from selenium.webdriver.common.action_chains import ActionChains"
   ]
  },
  {
   "cell_type": "code",
   "execution_count": null,
   "id": "12b2b697",
   "metadata": {},
   "outputs": [],
   "source": [
    "# Optional cell, stretches cell width for better readability\n",
    "from IPython.core.display import HTML\n",
    "\n",
    "custom_css = \"\"\"\n",
    "<style>\n",
    ".container { width: 100% !important; }\n",
    ".code_cell { flex-grow: 1; width: 100% !important; }\n",
    ".code_cell .input_area { width: 100% !important; }\n",
    "</style>\n",
    "\"\"\"\n",
    "\n",
    "display(HTML(custom_css))"
   ]
  },
  {
   "cell_type": "code",
   "execution_count": null,
   "id": "048f5ab1",
   "metadata": {},
   "outputs": [],
   "source": [
    "def extract_stats_table(soup):\n",
    "    table = soup.find('table')\n",
    "    \n",
    "    # Extract the table headers from the header row\n",
    "    header_row = table.find('thead').find('tr')\n",
    "    headers = [header.get_text(strip=True) for header in header_row.find_all('th')]\n",
    "\n",
    "    # Extract the table data from the data rows\n",
    "    data = []\n",
    "    data_rows = table.find('tbody').find_all('tr')\n",
    "    \n",
    "    for row in data_rows:\n",
    "        values = [cell.get_text(strip=True) for cell in row.find_all('td')]\n",
    "        data.append(dict(zip(headers, values)))\n",
    "        \n",
    "    # Create DataFrame\n",
    "    player_stats_df = pd.DataFrame(data)\n",
    "\n",
    "    return player_stats_df"
   ]
  },
  {
   "cell_type": "code",
   "execution_count": null,
   "id": "45b87b63",
   "metadata": {},
   "outputs": [],
   "source": [
    "def create_df(csv_filename):\n",
    "    \n",
    "    soup = BS(driver.page_source,'html.parser')\n",
    "    \n",
    "    player_stats_df = extract_stats_table(soup)\n",
    "    \n",
    "    # Create a \"data\" folder if it doesn't exist\n",
    "    data_folder = 'data'\n",
    "    if not os.path.exists(data_folder):\n",
    "        os.makedirs(data_folder)\n",
    "    \n",
    "    # Save the dataframe locally to a csv\n",
    "    csv_filepath = os.path.join(data_folder, csv_filename)\n",
    "    player_stats_df.to_csv(csv_filepath, index=False)\n",
    "    \n",
    "    print(player_stats_df)"
   ]
  },
  {
   "cell_type": "code",
   "execution_count": null,
   "id": "bd05db55",
   "metadata": {},
   "outputs": [],
   "source": [
    "def download_table(desired_year, desired_season, desired_type, file_name):\n",
    "    \n",
    "    # Find and click the button to open the drop-down for selecting the year\n",
    "    year_button = driver.find_element(By.CSS_SELECTOR, 'span#select2-year-container')\n",
    "    year_button.click()\n",
    "\n",
    "    # Find and click the specific year option in the drop-down\n",
    "    year_option = WebDriverWait(driver, 15).until(EC.element_to_be_clickable((By.XPATH, f'//li[text()=\"{desired_year}\"]')))\n",
    "    year_option.click()\n",
    "    \n",
    "    # Find and click the button to open the drop-down for selecting the table type\n",
    "    type_button = driver.find_element(By.CSS_SELECTOR, 'span#select2-type-container')\n",
    "    type_button.click()\n",
    "\n",
    "    # Find and click the specific table type option in the drop-down\n",
    "    type_option = WebDriverWait(driver, 15).until(EC.element_to_be_clickable((By.XPATH, f'//li[text()=\"{desired_type}\"]')))\n",
    "    type_option.click()\n",
    "    \n",
    "    # Find and click the button to open the drop-down for selecting the season\n",
    "    season_button = driver.find_element(By.CSS_SELECTOR, 'span#select2-season-container')\n",
    "    season_button.click()\n",
    "    \n",
    "    # Find and click the specific season option in the drop-down\n",
    "    season_option = WebDriverWait(driver, 15).until(EC.element_to_be_clickable((By.XPATH, f'//li[text()=\"{desired_season}\"]')))\n",
    "    season_option.click()\n",
    "\n",
    "\n",
    "    # Call create_df function to download the table data\n",
    "    create_df(f\"{file_name}_{desired_year.replace('-','_')}.csv\")\n",
    "\n",
    "    driver.quit()"
   ]
  },
  {
   "cell_type": "code",
   "execution_count": null,
   "id": "f1fa9b4a",
   "metadata": {},
   "outputs": [],
   "source": [
    "def print_options_for_year(desired_year):\n",
    "\n",
    "    driver = webdriver.Chrome()\n",
    "\n",
    "    # Navigating to the page\n",
    "    URL = 'https://nisaofficial.com/player-stats'\n",
    "    driver.get(URL)\n",
    "\n",
    "    # Find and click the button to open the drop-down for selecting the year\n",
    "    year_button = driver.find_element(By.CSS_SELECTOR, 'span#select2-year-container')\n",
    "    year_button.click()\n",
    "\n",
    "    # Find and click the specific year option in the drop-down\n",
    "    year_option = WebDriverWait(driver, 15).until(EC.element_to_be_clickable((By.XPATH, f'//li[text()=\"{desired_year}\"]')))\n",
    "    year_option.click()\n",
    "\n",
    "    # Wait for the type button to be clickable\n",
    "    WebDriverWait(driver, 15).until(EC.element_to_be_clickable((By.CSS_SELECTOR, 'span#select2-type-container')))\n",
    "\n",
    "    # Hover over the type button to trigger its drop-down\n",
    "    type_button = driver.find_element(By.CSS_SELECTOR, 'span#select2-type-container')\n",
    "    driver.execute_script(\"arguments[0].click();\", type_button)\n",
    "\n",
    "    # Wait for the drop-down to open\n",
    "    table_dropdown = WebDriverWait(driver, 15).until(EC.presence_of_element_located((By.CSS_SELECTOR, 'select#type')))\n",
    "\n",
    "    # Find the drop-down options and print their text\n",
    "    type_options = table_dropdown.find_elements(By.TAG_NAME, 'option')\n",
    "    print('TABLE TYPE OPTIONS:')\n",
    "    for type_option in type_options:\n",
    "        print(type_option.text)\n",
    "    \n",
    "    # Wait for the season button to be clickable\n",
    "    WebDriverWait(driver, 15).until(EC.element_to_be_clickable((By.CSS_SELECTOR, 'span#select2-season-container')))\n",
    "\n",
    "    # Hover over the season button to trigger its drop-down\n",
    "    season_button = driver.find_element(By.CSS_SELECTOR, 'span#select2-season-container')\n",
    "    driver.execute_script(\"arguments[0].click();\", season_button)\n",
    "\n",
    "    # Wait for the drop-down to open\n",
    "    table_dropdown = WebDriverWait(driver, 15).until(EC.presence_of_element_located((By.CSS_SELECTOR, 'select#season')))\n",
    "\n",
    "    # Find the drop-down options and print their text\n",
    "    season_options = table_dropdown.find_elements(By.TAG_NAME, 'option')\n",
    "    print()\n",
    "    print('SEASON OPTIONS:')\n",
    "    for season_option in season_options:\n",
    "        print(season_option.text) \n",
    "    \n",
    "    driver.quit()"
   ]
  },
  {
   "cell_type": "markdown",
   "id": "6fc606e6",
   "metadata": {},
   "source": [
    "## Run the below cell to see all the available years."
   ]
  },
  {
   "cell_type": "code",
   "execution_count": null,
   "id": "2a8b4aad",
   "metadata": {},
   "outputs": [],
   "source": [
    "# Start Chrome with Selenium\n",
    "driver = webdriver.Chrome()\n",
    "\n",
    "# Navigate to the page with player stats\n",
    "player_stats_url = 'https://nisaofficial.com/player-stats'\n",
    "driver.get(player_stats_url)\n",
    "\n",
    "# Interact with the first button (year selection)\n",
    "year_button = WebDriverWait(driver, 15).until(EC.element_to_be_clickable((By.ID, 'select2-year-container')))\n",
    "year_button.click()\n",
    "\n",
    "# Get the available year options from the drop-down menu\n",
    "year_options = driver.find_elements(By.CSS_SELECTOR, 'li.select2-results__option')\n",
    "years = [option.text for option in year_options]\n",
    "print(years)\n",
    "\n",
    "# Quit the browser\n",
    "driver.quit()"
   ]
  },
  {
   "cell_type": "markdown",
   "id": "21bc1c2f",
   "metadata": {},
   "source": [
    "## Run the below cell to see the filters you can chose based on the year you're interested in."
   ]
  },
  {
   "cell_type": "code",
   "execution_count": null,
   "id": "1a324cfc",
   "metadata": {},
   "outputs": [],
   "source": [
    "print_options_for_year('2023')"
   ]
  },
  {
   "cell_type": "markdown",
   "id": "bfeb9036",
   "metadata": {},
   "source": [
    "## Table Selection\n",
    "### Run both cells for every table you want to download (for some reason it doesn't like it all in one cell). All you need to do is change are the arguements in the 'download_table()' function. The first arguement is the year you want to pull the table from. The second and third arguements are for the season and table type (optional arguements come from the 'print_options_for_year()' function). The final arguement is what you want the file to be called. You will need to end the file name with '.csv' and the file will be downloaded into a directory called 'data'. You do not have to create this directory yourself. The 'create_df()' function will do this for you. Finally, make sure your agruements are encased in apostrophes or quotations."
   ]
  },
  {
   "cell_type": "code",
   "execution_count": null,
   "id": "4d14f66e",
   "metadata": {},
   "outputs": [],
   "source": [
    "# Start Chrome with Selenium\n",
    "driver = webdriver.Chrome()\n",
    "\n",
    "# Navigate to the page\n",
    "URL = 'https://nisaofficial.com/player-stats'\n",
    "driver.get(URL)"
   ]
  },
  {
   "cell_type": "code",
   "execution_count": null,
   "id": "0e0a3dbd",
   "metadata": {},
   "outputs": [],
   "source": [
    "download_table('2023', '2023 Season', 'All', 'all_playerstat_2023')"
   ]
  },
  {
   "cell_type": "markdown",
   "id": "2f78b627",
   "metadata": {},
   "source": [
    "## Below will retirieve all player stats"
   ]
  },
  {
   "cell_type": "code",
   "execution_count": null,
   "id": "c9a63b67",
   "metadata": {},
   "outputs": [],
   "source": [
    "years = ['2019-2020', '2020-2021', '2020-2021', '2021', '2022', '2023']\n",
    "year = ['2020', '2020', '2021', '2021', '2022', '2023']\n",
    "season = ['Spring Season', 'Fall Season', 'Spring Season', 'Fall Season', '2022 Season', '2023 Season']\n",
    "\n",
    "# Loop through the years and download tables\n",
    "for i in range(len(years)):\n",
    "    print(f'\\nLeague Standings for {year[i]} {season[i]}')\n",
    "\n",
    "    driver = webdriver.Chrome()\n",
    "\n",
    "    URL = 'https://nisaofficial.com/player-stats'\n",
    "    driver.get(URL)\n",
    "    \n",
    "    download_table(years[i], season[i], 'All', f'all_playerstat_{season[i].replace(\" \", \"_\")}') "
   ]
  },
  {
   "cell_type": "markdown",
   "id": "d343e481",
   "metadata": {},
   "source": [
    "## Below will concat all the tables into one, given you used the same file naming as above."
   ]
  },
  {
   "cell_type": "code",
   "execution_count": null,
   "id": "99b7de6d",
   "metadata": {},
   "outputs": [],
   "source": [
    "data_frames = []\n",
    "\n",
    "for i in range(len(year)):\n",
    "    file = f'all_playerstat_{season[i].replace(\" \", \"_\")}_{years[i].replace(\"-\",\"_\")}'\n",
    "    df = pd.read_csv(f'data/{file}.csv')\n",
    "    \n",
    "    df['Year'] = year[i]\n",
    "    df['Season'] = season[i]\n",
    "    \n",
    "    data_frames.append(df)\n",
    "\n",
    "complete_playerstats_df = pd.concat(data_frames, ignore_index=False)"
   ]
  },
  {
   "cell_type": "code",
   "execution_count": null,
   "id": "139c2e6e",
   "metadata": {},
   "outputs": [],
   "source": [
    "column_names_update = {\n",
    "    '#': 'Jersey Number',\n",
    "    'Pos': 'Position',\n",
    "    'GP': 'Games Played',\n",
    "    'GS': 'Games Started',\n",
    "    'MIN': 'Minutes Played',\n",
    "    'G': 'Goals',\n",
    "    'A': 'Assists',\n",
    "    'SH': 'Shots',\n",
    "    'Y': 'Yellow Cards',\n",
    "    'R': 'Red Cards',\n",
    "}\n",
    "\n",
    "\n",
    "# Changing team abbreviations to their full names (mapping didn't work)\n",
    "complete_playerstats_df['Team'] = complete_playerstats_df['Team'].replace({\n",
    "    'OAK': 'Oakland Roots SC',\n",
    "    'STP': 'Stumptown Athletic',\n",
    "    'DCFC': 'Detroit City FC',\n",
    "    'CUSFC': 'Cal United Strikers FC',\n",
    "    'CFC': 'Chattanooga FC',\n",
    "    'ALB': 'ALBION San Diego', #####\n",
    "    'LAF': 'Los Angeles Force',\n",
    "    'MICH': 'Michigan Stars FC',\n",
    "    'NYC': 'New York Cosmos',\n",
    "    'NAFC': 'New Amsterdam FC',\n",
    "    'SAC': 'Stumptown AC',\n",
    "    'MBFC': 'Maryland Bobcats FC',\n",
    "    'CHAC': 'Chicago House AC',\n",
    "    'ACSP': 'Syracuse Pulse',\n",
    "    'FCU': 'Flower City Union',\n",
    "    'BCFC': 'Bay Cities FC',\n",
    "    'CDL': 'CLub de Lyon FC',\n",
    "    'GSFC': 'Gold Star FC Detroit',\n",
    "    'SAV': 'Savannah Clovers FC',\n",
    "})\n",
    "\n",
    "complete_playerstats_df = complete_playerstats_df.rename(columns=column_names_update)\n",
    "\n",
    "#New column 'Goal Shot Ratio'\n",
    "complete_player_stats_df['Goal Shot Ratio'] = complete_player_stats_df['Goals'] / complete_player_stats_df['Shots']\n",
    "\n",
    "#Save to .csv locally\n",
    "complete_playerstats_df.to_csv('complete_player_stats.csv', index=False)\n",
    "\n",
    "print(complete_playerstats_df)"
   ]
  },
  {
   "cell_type": "code",
   "execution_count": null,
   "id": "071d5a9a",
   "metadata": {},
   "outputs": [],
   "source": []
  }
 ],
 "metadata": {
  "kernelspec": {
   "display_name": "Python 3 (ipykernel)",
   "language": "python",
   "name": "python3"
  },
  "language_info": {
   "codemirror_mode": {
    "name": "ipython",
    "version": 3
   },
   "file_extension": ".py",
   "mimetype": "text/x-python",
   "name": "python",
   "nbconvert_exporter": "python",
   "pygments_lexer": "ipython3",
   "version": "3.10.9"
  }
 },
 "nbformat": 4,
 "nbformat_minor": 5
}
