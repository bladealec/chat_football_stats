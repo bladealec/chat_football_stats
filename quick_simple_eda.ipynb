{
 "cells": [
  {
   "cell_type": "markdown",
   "id": "62bd4a72",
   "metadata": {},
   "source": [
    "# Quick and simple EDA"
   ]
  },
  {
   "cell_type": "code",
   "execution_count": null,
   "id": "93a3b797",
   "metadata": {},
   "outputs": [],
   "source": [
    "import pandas as pd"
   ]
  },
  {
   "cell_type": "markdown",
   "id": "a3ea3d8f",
   "metadata": {},
   "source": [
    "### Leaguestat EDA"
   ]
  },
  {
   "cell_type": "code",
   "execution_count": null,
   "id": "66db6d8e",
   "metadata": {},
   "outputs": [],
   "source": [
    "leaguestat = pd.read_csv('complete_regseason_leaguestat.csv')"
   ]
  },
  {
   "cell_type": "code",
   "execution_count": null,
   "id": "32bcab41",
   "metadata": {},
   "outputs": [],
   "source": [
    "print(\"Shape of the DataFrame:\", leaguestat.shape)\n",
    "\n",
    "print(\"\\nData Types of Each Column:\")\n",
    "print(leaguestat.dtypes)\n",
    "\n",
    "print(\"\\nMissing Values in Each Column:\")\n",
    "print(leaguestat.isnull().sum())\n",
    "\n",
    "print(\"\\nSummary Statistics for Numeric Columns:\")\n",
    "print(leaguestat.describe())\n",
    "\n",
    "categorical_columns = leaguestat.select_dtypes(include=['object']).columns\n",
    "for column in categorical_columns:\n",
    "    unique_values = leaguestat[column].unique()\n",
    "    print(f\"\\nUnique Values in '{column}':\")\n",
    "    for value in unique_values:\n",
    "        count = leaguestat[leaguestat[column] == value].shape[0]\n",
    "        if count == 1:\n",
    "            print(f\"{value}: {count} occurrence\")\n",
    "        else:\n",
    "            print(f\"{value}: {count} occurrences\")"
   ]
  },
  {
   "cell_type": "markdown",
   "id": "ce445037",
   "metadata": {},
   "source": [
    "### Player Stats EDA"
   ]
  },
  {
   "cell_type": "code",
   "execution_count": null,
   "id": "7dd64b21",
   "metadata": {},
   "outputs": [],
   "source": [
    "playerstat = pd.read_csv('complete_player_stats.csv')"
   ]
  },
  {
   "cell_type": "code",
   "execution_count": null,
   "id": "9313daa2",
   "metadata": {},
   "outputs": [],
   "source": [
    "print(\"Shape of the DataFrame:\", playerstat.shape)\n",
    "\n",
    "print(\"\\nData Types of Each Column:\")\n",
    "print(playerstat.dtypes)\n",
    "\n",
    "print(\"\\nMissing Values in Each Column:\")\n",
    "print(playerstat.isnull().sum())\n",
    "\n",
    "print(\"\\nSummary Statistics for Numeric Columns:\")\n",
    "print(playerstat.describe())\n",
    "\n",
    "categorical_columns = playerstat[['Team', 'Season']].columns\n",
    "for column in categorical_columns:\n",
    "    unique_values = playerstat[column].unique()\n",
    "    print(f\"\\nUnique Values in '{column}':\")\n",
    "    for value in unique_values:\n",
    "        count = playerstat[playerstat[column] == value].shape[0]\n",
    "        if count == 1:\n",
    "            print(f\"{value}: {count} occurrence\")\n",
    "        else:\n",
    "            print(f\"{value}: {count} occurrences\")"
   ]
  },
  {
   "cell_type": "markdown",
   "id": "94fd2e5c",
   "metadata": {},
   "source": [
    "### Team Standings EDA"
   ]
  },
  {
   "cell_type": "code",
   "execution_count": null,
   "id": "09898f8a",
   "metadata": {},
   "outputs": [],
   "source": [
    "team_standing = pd.read_csv('complete_regseason_standings.csv')"
   ]
  },
  {
   "cell_type": "code",
   "execution_count": null,
   "id": "ea70cefb",
   "metadata": {},
   "outputs": [],
   "source": [
    "print(\"Shape of the DataFrame:\", team_standing.shape)\n",
    "\n",
    "print(\"\\nData Types of Each Column:\")\n",
    "print(team_standing.dtypes)\n",
    "\n",
    "print(\"\\nMissing Values in Each Column:\")\n",
    "print(team_standing.isnull().sum())\n",
    "\n",
    "print(\"\\nSummary Statistics for Numeric Columns:\")\n",
    "print(team_standing.describe())\n",
    "\n",
    "categorical_columns = team_standing[['TEAM', 'Year', 'Season']].columns\n",
    "for column in categorical_columns:\n",
    "    unique_values = team_standing[column].unique()\n",
    "    print(f\"\\nUnique Values in '{column}':\")\n",
    "    for value in unique_values:\n",
    "        count = team_standing[team_standing[column] == value].shape[0]\n",
    "        if count == 1:\n",
    "            print(f\"{value}: {count} occurrence\")\n",
    "        else:\n",
    "            print(f\"{value}: {count} occurrences\")"
   ]
  },
  {
   "cell_type": "code",
   "execution_count": null,
   "id": "b32c578a",
   "metadata": {},
   "outputs": [],
   "source": []
  }
 ],
 "metadata": {
  "kernelspec": {
   "display_name": "Python 3 (ipykernel)",
   "language": "python",
   "name": "python3"
  },
  "language_info": {
   "codemirror_mode": {
    "name": "ipython",
    "version": 3
   },
   "file_extension": ".py",
   "mimetype": "text/x-python",
   "name": "python",
   "nbconvert_exporter": "python",
   "pygments_lexer": "ipython3",
   "version": "3.10.9"
  }
 },
 "nbformat": 4,
 "nbformat_minor": 5
}
