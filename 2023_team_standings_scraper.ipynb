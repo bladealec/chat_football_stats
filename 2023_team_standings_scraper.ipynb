{
 "cells": [
  {
   "cell_type": "code",
   "execution_count": null,
   "id": "543dd7fc",
   "metadata": {},
   "outputs": [],
   "source": [
    "import requests\n",
    "from bs4 import BeautifulSoup as BS\n",
    "import pandas as pd\n",
    "\n",
    "from selenium import webdriver\n",
    "from selenium.webdriver.chrome.service import Service\n",
    "from selenium.webdriver.common.by import By\n",
    "from selenium.webdriver.support.ui import WebDriverWait\n",
    "from selenium.webdriver.support import expected_conditions as EC"
   ]
  },
  {
   "cell_type": "code",
   "execution_count": null,
   "id": "37e146b1",
   "metadata": {},
   "outputs": [],
   "source": [
    "def extract_standings_table(soup):\n",
    "    \n",
    "    table = soup.find('table')\n",
    "    \n",
    "     # Extract the table data into a list of dictionaries\n",
    "    data = []\n",
    "    rows = table.find_all('tr')\n",
    "    headers = [header.get_text(strip=True) for header in rows[0].find_all('th')]\n",
    "    \n",
    "    for row in rows[1:]:\n",
    "        values = [cell.get_text(strip=True) for cell in row.find_all(['td', 'th'])]\n",
    "        data.append(dict(zip(headers, values)))\n",
    "\n",
    "    # Creating DataFrame\n",
    "    team_standings_df = pd.DataFrame(data)\n",
    "\n",
    "    # Cleaning up DataFrame\n",
    "    team_standings_df = team_standings_df.replace(r'\\n', '', regex=True)  # Removes newline characters\n",
    "    team_standings_df['TEAM'] = team_standings_df['TEAM'].str.strip()  # Strips leading/trailing spaces\n",
    "\n",
    "    return(team_standings_df)"
   ]
  },
  {
   "cell_type": "code",
   "execution_count": null,
   "id": "1597a4f5",
   "metadata": {},
   "outputs": [],
   "source": [
    "URL = 'https://nisaofficial.com/standings'"
   ]
  },
  {
   "cell_type": "markdown",
   "id": "193eb8bf",
   "metadata": {},
   "source": [
    "## 2023 Regular Season Team Standings Scrapping"
   ]
  },
  {
   "cell_type": "code",
   "execution_count": null,
   "id": "fd8f10a0",
   "metadata": {},
   "outputs": [],
   "source": [
    "response2023 = requests.get(URL)\n",
    "soup2023 = BS(response2023.text)"
   ]
  },
  {
   "cell_type": "code",
   "execution_count": null,
   "id": "839d90f4",
   "metadata": {
    "scrolled": true
   },
   "outputs": [],
   "source": [
    "team_standings_2023_df = extract_standings_table(soup2023)\n",
    "print(team_standings_2023_df)"
   ]
  },
  {
   "cell_type": "markdown",
   "id": "68e34ec3",
   "metadata": {},
   "source": [
    "## Web scrapping with dynamic content rendering\n",
    "The NISA website URL does not change when looking at different seasons for the team standings. This is most likely due to the website using JavaScript to fetch and load the data asynchronously. To get around this we will use a library called 'selenium'."
   ]
  },
  {
   "cell_type": "markdown",
   "id": "dce1ba08",
   "metadata": {},
   "source": [
    "## 2022 Regular Season Team Standings Scrapping"
   ]
  },
  {
   "cell_type": "code",
   "execution_count": null,
   "id": "47eab854",
   "metadata": {},
   "outputs": [],
   "source": [
    "\n",
    "chrome_driver_path = 'C:\\Program Files (x86)\\Google\\Chrome\\Application\\chrome'\n",
    "\n",
    "# Starting Chrome with Selenium\n",
    "service = Service(chrome_driver_path)\n",
    "driver = webdriver.Chrome(service=service)\n",
    "\n",
    "# Navigating to the page\n",
    "driver.get(URL)\n",
    "\n",
    "# Interacting with the page\n",
    "button1 = WebDriverWait(driver, 15).until(EC.element_to_be_clickable((By.CSS_SELECTOR, '#selectSeason')))\n",
    "button1.click()\n",
    "\n",
    "button2 = WebDriverWait(driver, 15).until(EC.element_to_be_clickable((By.CSS_SELECTOR, '#select2-year-container')))\n",
    "button2.click()"
   ]
  },
  {
   "cell_type": "code",
   "execution_count": null,
   "id": "8045259c",
   "metadata": {},
   "outputs": [],
   "source": [
    "# The button selector id for each season is dynamic and changes each time the page is opened\n",
    "# As of now I am inspecting the page to find the dynamic part"
   ]
  },
  {
   "cell_type": "code",
   "execution_count": null,
   "id": "88cceaad",
   "metadata": {},
   "outputs": [],
   "source": [
    "# '#select2-year-result-{dynamic_part}-33'\n",
    "season_select2022 = WebDriverWait(driver, 15).until(EC.element_to_be_clickable((By.CSS_SELECTOR, '#select2-year-result-9yzv-33')))\n",
    "season_select2022.click()\n"
   ]
  },
  {
   "cell_type": "code",
   "execution_count": null,
   "id": "e3249a07",
   "metadata": {},
   "outputs": [],
   "source": [
    "soup2022 = BS(driver.page_source,'html.parser')"
   ]
  },
  {
   "cell_type": "code",
   "execution_count": null,
   "id": "b88adb98",
   "metadata": {},
   "outputs": [],
   "source": [
    "team_standings_2022_df = extract_standings_table(soup2022)\n",
    "print(team_standings_2022_df)"
   ]
  },
  {
   "cell_type": "code",
   "execution_count": null,
   "id": "46d3313a",
   "metadata": {},
   "outputs": [],
   "source": [
    "driver.quit()"
   ]
  },
  {
   "cell_type": "markdown",
   "id": "40443f4d",
   "metadata": {},
   "source": [
    "## 2021 (Fall) Regular Season Team Standings Scrapping"
   ]
  },
  {
   "cell_type": "code",
   "execution_count": null,
   "id": "0e844347",
   "metadata": {},
   "outputs": [],
   "source": [
    "chrome_driver_path = 'C:\\Program Files (x86)\\Google\\Chrome\\Application\\chrome'\n",
    "\n",
    "# Starting Chrome with Selenium\n",
    "service = Service(chrome_driver_path)\n",
    "driver = webdriver.Chrome(service=service)\n",
    "\n",
    "# Navigating to the page\n",
    "driver.get(URL)\n",
    "\n",
    "# Interacting with the page\n",
    "button1 = WebDriverWait(driver, 15).until(EC.element_to_be_clickable((By.CSS_SELECTOR, '#selectSeason')))\n",
    "button1.click()\n",
    "\n",
    "button2 = WebDriverWait(driver, 15).until(EC.element_to_be_clickable((By.CSS_SELECTOR, '#select2-year-container')))\n",
    "button2.click()"
   ]
  },
  {
   "cell_type": "code",
   "execution_count": null,
   "id": "f7890b30",
   "metadata": {},
   "outputs": [],
   "source": [
    "# '#select2-year-result-{dynamic_part}-17'\n",
    "season_select2021 = WebDriverWait(driver, 15).until(EC.element_to_be_clickable((By.CSS_SELECTOR, '#select2-year-result-36kv-17')))\n",
    "season_select2021.click()"
   ]
  },
  {
   "cell_type": "code",
   "execution_count": null,
   "id": "056d2dca",
   "metadata": {},
   "outputs": [],
   "source": [
    "soup2021 = BS(driver.page_source,'html.parser')"
   ]
  },
  {
   "cell_type": "code",
   "execution_count": null,
   "id": "48a031d6",
   "metadata": {},
   "outputs": [],
   "source": [
    "team_standings_2021_df = extract_standings_table(soup2022)\n",
    "print(team_standings_2021_df)"
   ]
  },
  {
   "cell_type": "code",
   "execution_count": null,
   "id": "977c39e1",
   "metadata": {},
   "outputs": [],
   "source": [
    "driver.quit()"
   ]
  },
  {
   "cell_type": "markdown",
   "id": "1874c6d5",
   "metadata": {},
   "source": [
    "## 2020 (Spring and Fall) Regular Season Team Standings Scrapping"
   ]
  },
  {
   "cell_type": "markdown",
   "id": "9a273f8d",
   "metadata": {},
   "source": [
    "## 2019 (Spring) Regular Season Team Standings Scrapping"
   ]
  },
  {
   "cell_type": "code",
   "execution_count": null,
   "id": "c461e82b",
   "metadata": {},
   "outputs": [],
   "source": [
    "team_standings_2023_df.to_csv('data/team_standings_2023.csv', index=False)\n",
    "team_standings_2022_df.to_csv('data/team_standings_2022.csv', index=False)\n",
    "team_standings_2021_df.to_csv('data/team_standings_2021.csv', index=False)"
   ]
  },
  {
   "cell_type": "code",
   "execution_count": null,
   "id": "54cffc59",
   "metadata": {},
   "outputs": [],
   "source": []
  }
 ],
 "metadata": {
  "kernelspec": {
   "display_name": "Python 3 (ipykernel)",
   "language": "python",
   "name": "python3"
  },
  "language_info": {
   "codemirror_mode": {
    "name": "ipython",
    "version": 3
   },
   "file_extension": ".py",
   "mimetype": "text/x-python",
   "name": "python",
   "nbconvert_exporter": "python",
   "pygments_lexer": "ipython3",
   "version": "3.10.9"
  }
 },
 "nbformat": 4,
 "nbformat_minor": 5
}
